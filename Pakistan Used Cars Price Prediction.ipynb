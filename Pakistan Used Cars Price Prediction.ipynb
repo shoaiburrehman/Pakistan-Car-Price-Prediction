{
 "cells": [
  {
   "cell_type": "code",
   "execution_count": 1,
   "metadata": {},
   "outputs": [],
   "source": [
    "import pandas as pd\n",
    "import numpy as np\n",
    "import matplotlib.pyplot as plt\n",
    "%matplotlib inline\n",
    "import seaborn as sns\n",
    "\n",
    "from sklearn.model_selection import train_test_split, cross_val_score, GridSearchCV\n",
    "from sklearn.linear_model import LinearRegression, Ridge, Lasso\n",
    "from sklearn.ensemble import RandomForestRegressor\n",
    "from sklearn.tree import DecisionTreeRegressor\n",
    "from sklearn.metrics import r2_score, mean_absolute_error, mean_squared_error\n",
    "from sklearn.metrics import accuracy_score, confusion_matrix, classification_report, fbeta_score\n",
    "\n",
    "import warnings\n",
    "warnings.filterwarnings('ignore')"
   ]
  },
  {
   "cell_type": "code",
   "execution_count": 2,
   "metadata": {},
   "outputs": [],
   "source": [
    "df = pd.read_csv('./archive/OLX_Car_Data_CSV.csv', encoding= 'unicode_escape')"
   ]
  },
  {
   "cell_type": "code",
   "execution_count": 3,
   "metadata": {},
   "outputs": [
    {
     "data": {
      "text/html": [
       "<div>\n",
       "<style scoped>\n",
       "    .dataframe tbody tr th:only-of-type {\n",
       "        vertical-align: middle;\n",
       "    }\n",
       "\n",
       "    .dataframe tbody tr th {\n",
       "        vertical-align: top;\n",
       "    }\n",
       "\n",
       "    .dataframe thead th {\n",
       "        text-align: right;\n",
       "    }\n",
       "</style>\n",
       "<table border=\"1\" class=\"dataframe\">\n",
       "  <thead>\n",
       "    <tr style=\"text-align: right;\">\n",
       "      <th></th>\n",
       "      <th>Brand</th>\n",
       "      <th>Condition</th>\n",
       "      <th>Fuel</th>\n",
       "      <th>KMs Driven</th>\n",
       "      <th>Model</th>\n",
       "      <th>Price</th>\n",
       "      <th>Registered City</th>\n",
       "      <th>Transaction Type</th>\n",
       "      <th>Year</th>\n",
       "    </tr>\n",
       "  </thead>\n",
       "  <tbody>\n",
       "    <tr>\n",
       "      <th>0</th>\n",
       "      <td>Toyota</td>\n",
       "      <td>Used</td>\n",
       "      <td>Diesel</td>\n",
       "      <td>1.0</td>\n",
       "      <td>Prado</td>\n",
       "      <td>2100000</td>\n",
       "      <td>Karachi</td>\n",
       "      <td>Cash</td>\n",
       "      <td>1997.0</td>\n",
       "    </tr>\n",
       "    <tr>\n",
       "      <th>1</th>\n",
       "      <td>Suzuki</td>\n",
       "      <td>Used</td>\n",
       "      <td>Petrol</td>\n",
       "      <td>100000.0</td>\n",
       "      <td>Bolan</td>\n",
       "      <td>380000</td>\n",
       "      <td>Karachi</td>\n",
       "      <td>Cash</td>\n",
       "      <td>2006.0</td>\n",
       "    </tr>\n",
       "    <tr>\n",
       "      <th>2</th>\n",
       "      <td>Suzuki</td>\n",
       "      <td>Used</td>\n",
       "      <td>CNG</td>\n",
       "      <td>12345.0</td>\n",
       "      <td>Bolan</td>\n",
       "      <td>340000</td>\n",
       "      <td>Karachi</td>\n",
       "      <td>Cash</td>\n",
       "      <td>1998.0</td>\n",
       "    </tr>\n",
       "    <tr>\n",
       "      <th>3</th>\n",
       "      <td>Suzuki</td>\n",
       "      <td>Used</td>\n",
       "      <td>Petrol</td>\n",
       "      <td>94000.0</td>\n",
       "      <td>Alto</td>\n",
       "      <td>535000</td>\n",
       "      <td>Karachi</td>\n",
       "      <td>Cash</td>\n",
       "      <td>2010.0</td>\n",
       "    </tr>\n",
       "    <tr>\n",
       "      <th>4</th>\n",
       "      <td>Toyota</td>\n",
       "      <td>Used</td>\n",
       "      <td>Petrol</td>\n",
       "      <td>100000.0</td>\n",
       "      <td>Corolla XLI</td>\n",
       "      <td>1430000</td>\n",
       "      <td>Karachi</td>\n",
       "      <td>Cash</td>\n",
       "      <td>2013.0</td>\n",
       "    </tr>\n",
       "  </tbody>\n",
       "</table>\n",
       "</div>"
      ],
      "text/plain": [
       "    Brand Condition    Fuel  KMs Driven        Model    Price Registered City  \\\n",
       "0  Toyota      Used  Diesel         1.0        Prado  2100000         Karachi   \n",
       "1  Suzuki      Used  Petrol    100000.0        Bolan   380000         Karachi   \n",
       "2  Suzuki      Used     CNG     12345.0        Bolan   340000         Karachi   \n",
       "3  Suzuki      Used  Petrol     94000.0         Alto   535000         Karachi   \n",
       "4  Toyota      Used  Petrol    100000.0  Corolla XLI  1430000         Karachi   \n",
       "\n",
       "  Transaction Type    Year  \n",
       "0             Cash  1997.0  \n",
       "1             Cash  2006.0  \n",
       "2             Cash  1998.0  \n",
       "3             Cash  2010.0  \n",
       "4             Cash  2013.0  "
      ]
     },
     "execution_count": 3,
     "metadata": {},
     "output_type": "execute_result"
    }
   ],
   "source": [
    "df.head()"
   ]
  },
  {
   "cell_type": "code",
   "execution_count": 4,
   "metadata": {},
   "outputs": [
    {
     "data": {
      "text/plain": [
       "array(['Prado', 'Bolan', 'Alto', 'Corolla XLI', 'Corrolla Altis',\n",
       "       'Cultus VXL', 'Civic VTi', 'Khyber', 'Liana', 'Passo',\n",
       "       'Civic Prosmetic', 'Civic EXi', 'Charade', 'Pajero Mini',\n",
       "       'Margalla', 'City IVTEC', 'Classic', 'Other', 'Corolla GLI',\n",
       "       'Cultus VXR', 'Dayz Highway Star', 'Mehran VX', 'Vitz',\n",
       "       'Mehran VXR', 'Carry', 'Cultus VX', 'Baleno', 'Mira',\n",
       "       'Civic VTi Oriel Prosmatec', 'Cuore', 'Corolla 2.0 D',\n",
       "       'Corolla XE', 'Surf', 'FX', 'City IDSI', 'Premio', 'Sprinter',\n",
       "       '3 Series', 'Hilux', 'Lancer', 'Swift', 'Estima', 'Vamos',\n",
       "       'Starlet', 'Prius', 'Joy', '323', 'Racer', 'Sunny', 'Accord',\n",
       "       'Zest', 'AD Van', 'APV', 'March', 'Pride', 'Sportage',\n",
       "       'Terios Kid', 'Santro', 'Fit', 'V2', 'City Aspire',\n",
       "       'Civic VTi Oriel', 'BR-V', 'Kei', 'Probox', 'Hijet', '86', 'Yaris',\n",
       "       'Aygo', 'Rush', 'Dayz', 'Fortuner', 'Every', 'Camry', 'Aqua',\n",
       "       'Corolla Assista', 'Sera', 'Acty', 'Moco', 'Wagon R', 'Smart',\n",
       "       'Demio', 'Corona', 'Every Wagon', 'Civic Hybrid', 'Duet', 'Vezel',\n",
       "       'Corolla Axio', 'City Vario', 'Corolla Fielder', 'Palette Sw',\n",
       "       'Platz', 'Lancer Evolution', 'Move', 'Gx Series', '5 Series',\n",
       "       '240 Gd', 'Mira Cocoa', 'Wingroad', 'Belta', 'Atrai Wagon',\n",
       "       'Minicab Bravo', 'Allion', 'Blue Bird', 'Exclusive', 'N Wgn',\n",
       "       'CT200h', 'Spectra', 'Beat', 'Mark II', 'Airwave', 'Supra',\n",
       "       'Ek Wagon', 'EK Custom', 'Lite Ace', '120 Y', 'Harrier',\n",
       "       'Pixis Epoch', '626', nan, 'Galant', 'Sonica', 'Carol Eco',\n",
       "       'Accent', 'IST', 'Land Cruiser', 'Palette', 'Juke', 'Potohar',\n",
       "       'CR-V', 'Clipper', 'Sirius', 'Roox', '350Z', 'Pajero', 'Vitara',\n",
       "       'Alto Lapin', 'Wagon R Stingray', 'Prius Alpha', 'Minica', 'Cast',\n",
       "       'Carol', 'Hustler', 'S Class', 'Boon', 'Jimny', 'Fj Cruiser',\n",
       "       'X-PV', 'Esse', 'Mirage', 'RX8', 'Carisma', 'iQ', 'Ek Sport',\n",
       "       'CLK Class', 'Note', 'Stream', 'Carrier', 'Town Ace', 'I', 'N Box',\n",
       "       'Excel', 'B2200', 'Tundra', 'Scrum', 'Celica', 'Van', 'C Class',\n",
       "       'Pickup', 'Kizashi', 'Freed', 'RX Series', 'Life', 'Otti',\n",
       "       'Spacia', 'Cervo', 'X5 Series', '200 D', 'Patrol', 'Acura',\n",
       "       'Crown', 'Copen', 'Scrum Wagon', 'Charmant', 'Mark X', 'Spike',\n",
       "       'Vogue', 'Axela', '929', 'Ravi', 'A1', 'A3', '2 Series',\n",
       "       'Grace Hybrid', 'Noah', 'Jade Hybrid', 'Tanto', 'X Trail',\n",
       "       'EK Space Custom', 'Cielo', 'I Mivec', 'N One', 'i8', 'S660',\n",
       "       'Tiida', 'CR-Z', 'Verossa', 'Flair Wagon', 'E Class', 'Sienta',\n",
       "       'Wish', 'L300', 'Auris', 'Cayenne', 'Silverado', 'Insight',\n",
       "       'Thats', 'C-HR', 'Familia Van', 'Jimny Sierra', 'D Series',\n",
       "       'Escudo', 'Vanette', 'Rvr', 'Ciaz', 'LX Series', '250 D', 'Cami',\n",
       "       'Bluebird Sylphy', 'Pino', 'Ignis', 'A4', 'Wake', 'Spark',\n",
       "       'MR Wagon', 'President', 'Sirion', 'Q7', 'Zest Spark', 'Cruze',\n",
       "       'B B', 'Avanza', 'Flair', 'ISIS', 'Cross Road', '7 Series',\n",
       "       'Matiz', 'Pulsar', 'A6', 'Sonata', '6 Series', 'Cressida', 'Solio',\n",
       "       'Alphard Hybrid', 'Azwagon', 'Rav4', 'Toyo Ace', 'Chitral',\n",
       "       'Lucida', 'Safari', 'Murrano', 'Kix', 'Previa', 'Mega Carry Xtra',\n",
       "       'Optra', 'cars-other-23', 'Infinity', 'Gilgit', 'Shogun',\n",
       "       'Hse 4.6', 'Sport', 'Toppo', '808', 'Luce', 'cars-other-37',\n",
       "       'Ractis', 'Figaro', 'L200', 'cars-suzuki-86', 'cars-other-7', 'A5',\n",
       "       'Kalam', 'Cappuccino', 'Echo', 'Bego', 'Elantra', 'Rocky',\n",
       "       'cars-other-5', 'A Class', 'Gran', 'X1', 'Hiace', 'Coaster',\n",
       "       'Raum', 'Colt', 'Sx4', 'Porte', 'Succeed', 'Qashqai', 'MR2',\n",
       "       'HR-V', 'Sylphy', 'Is Series', 'Shehzore'], dtype=object)"
      ]
     },
     "execution_count": 4,
     "metadata": {},
     "output_type": "execute_result"
    }
   ],
   "source": [
    "df['Model'].unique()"
   ]
  },
  {
   "cell_type": "code",
   "execution_count": 5,
   "metadata": {},
   "outputs": [
    {
     "data": {
      "text/plain": [
       "array(['Karachi', 'Hyderabad', 'Bagh', 'Sukkar', 'Bahawalnagar', 'Lahore',\n",
       "       'Askoley', 'Khanpur', 'Quetta', 'Karak', 'Islamabad', 'Sialkot',\n",
       "       'Pakpattan', 'Lasbela', 'Sukkur', 'Rawalpindi', 'Bahawalpur',\n",
       "       'Ali Masjid', 'Multan', nan, 'Khaplu', 'Tank', 'Badin',\n",
       "       'Rahimyar Khan', 'Chilas', 'Kasur', 'Khushab', 'Vehari', 'Chitral',\n",
       "       'Khanewal', 'Attock', 'Larkana', 'Bela', 'Khairpur', 'Kandhura',\n",
       "       'Abbottabad', 'Nawabshah', 'Bhimber', 'Mardan', 'Chiniot',\n",
       "       'Faisalabad', 'Sahiwal', 'Haripur', 'Peshawar', 'Kohat',\n",
       "       'Sargodha', 'Jhelum', 'Gujrat', 'Nowshera', 'Gujranwala', 'Mirpur',\n",
       "       'Burewala', 'Mandi Bahauddin', 'Muzaffargarh', 'Wah',\n",
       "       'Dera Ghazi Khan', 'Sheikhüpura', 'Okara', 'Dera Ismail Khan',\n",
       "       'Swat', 'Swabi', 'Muzaffarabad'], dtype=object)"
      ]
     },
     "execution_count": 5,
     "metadata": {},
     "output_type": "execute_result"
    }
   ],
   "source": [
    "df['Registered City'].unique()"
   ]
  },
  {
   "cell_type": "code",
   "execution_count": 6,
   "metadata": {},
   "outputs": [
    {
     "data": {
      "text/plain": [
       "(24973, 9)"
      ]
     },
     "execution_count": 6,
     "metadata": {},
     "output_type": "execute_result"
    }
   ],
   "source": [
    "df.shape"
   ]
  },
  {
   "cell_type": "code",
   "execution_count": 7,
   "metadata": {},
   "outputs": [
    {
     "name": "stdout",
     "output_type": "stream",
     "text": [
      "<class 'pandas.core.frame.DataFrame'>\n",
      "RangeIndex: 24973 entries, 0 to 24972\n",
      "Data columns (total 9 columns):\n",
      " #   Column            Non-Null Count  Dtype  \n",
      "---  ------            --------------  -----  \n",
      " 0   Brand             22836 non-null  object \n",
      " 1   Condition         22837 non-null  object \n",
      " 2   Fuel              22528 non-null  object \n",
      " 3   KMs Driven        22687 non-null  float64\n",
      " 4   Model             22525 non-null  object \n",
      " 5   Price             24973 non-null  int64  \n",
      " 6   Registered City   20337 non-null  object \n",
      " 7   Transaction Type  22528 non-null  object \n",
      " 8   Year              22689 non-null  float64\n",
      "dtypes: float64(2), int64(1), object(6)\n",
      "memory usage: 1.7+ MB\n"
     ]
    }
   ],
   "source": [
    "df.info()"
   ]
  },
  {
   "cell_type": "code",
   "execution_count": 8,
   "metadata": {},
   "outputs": [
    {
     "data": {
      "text/html": [
       "<div>\n",
       "<style scoped>\n",
       "    .dataframe tbody tr th:only-of-type {\n",
       "        vertical-align: middle;\n",
       "    }\n",
       "\n",
       "    .dataframe tbody tr th {\n",
       "        vertical-align: top;\n",
       "    }\n",
       "\n",
       "    .dataframe thead th {\n",
       "        text-align: right;\n",
       "    }\n",
       "</style>\n",
       "<table border=\"1\" class=\"dataframe\">\n",
       "  <thead>\n",
       "    <tr style=\"text-align: right;\">\n",
       "      <th></th>\n",
       "      <th>KMs Driven</th>\n",
       "      <th>Price</th>\n",
       "      <th>Year</th>\n",
       "    </tr>\n",
       "  </thead>\n",
       "  <tbody>\n",
       "    <tr>\n",
       "      <th>count</th>\n",
       "      <td>2.268700e+04</td>\n",
       "      <td>2.497300e+04</td>\n",
       "      <td>22689.000000</td>\n",
       "    </tr>\n",
       "    <tr>\n",
       "      <th>mean</th>\n",
       "      <td>1.278112e+05</td>\n",
       "      <td>9.128953e+05</td>\n",
       "      <td>2005.901626</td>\n",
       "    </tr>\n",
       "    <tr>\n",
       "      <th>std</th>\n",
       "      <td>5.996726e+05</td>\n",
       "      <td>1.537134e+06</td>\n",
       "      <td>9.563804</td>\n",
       "    </tr>\n",
       "    <tr>\n",
       "      <th>min</th>\n",
       "      <td>1.000000e+00</td>\n",
       "      <td>5.000000e+04</td>\n",
       "      <td>1915.000000</td>\n",
       "    </tr>\n",
       "    <tr>\n",
       "      <th>25%</th>\n",
       "      <td>1.600000e+04</td>\n",
       "      <td>3.800000e+05</td>\n",
       "      <td>2002.000000</td>\n",
       "    </tr>\n",
       "    <tr>\n",
       "      <th>50%</th>\n",
       "      <td>6.651000e+04</td>\n",
       "      <td>6.500000e+05</td>\n",
       "      <td>2008.000000</td>\n",
       "    </tr>\n",
       "    <tr>\n",
       "      <th>75%</th>\n",
       "      <td>1.000000e+05</td>\n",
       "      <td>1.145000e+06</td>\n",
       "      <td>2013.000000</td>\n",
       "    </tr>\n",
       "    <tr>\n",
       "      <th>max</th>\n",
       "      <td>1.000000e+07</td>\n",
       "      <td>8.765432e+07</td>\n",
       "      <td>2020.000000</td>\n",
       "    </tr>\n",
       "  </tbody>\n",
       "</table>\n",
       "</div>"
      ],
      "text/plain": [
       "         KMs Driven         Price          Year\n",
       "count  2.268700e+04  2.497300e+04  22689.000000\n",
       "mean   1.278112e+05  9.128953e+05   2005.901626\n",
       "std    5.996726e+05  1.537134e+06      9.563804\n",
       "min    1.000000e+00  5.000000e+04   1915.000000\n",
       "25%    1.600000e+04  3.800000e+05   2002.000000\n",
       "50%    6.651000e+04  6.500000e+05   2008.000000\n",
       "75%    1.000000e+05  1.145000e+06   2013.000000\n",
       "max    1.000000e+07  8.765432e+07   2020.000000"
      ]
     },
     "execution_count": 8,
     "metadata": {},
     "output_type": "execute_result"
    }
   ],
   "source": [
    "df.describe()"
   ]
  },
  {
   "cell_type": "markdown",
   "metadata": {},
   "source": [
    "# Data Cleaning"
   ]
  },
  {
   "cell_type": "code",
   "execution_count": 9,
   "metadata": {
    "scrolled": true
   },
   "outputs": [
    {
     "data": {
      "text/plain": [
       "Brand               2137\n",
       "Condition           2136\n",
       "Fuel                2445\n",
       "KMs Driven          2286\n",
       "Model               2448\n",
       "Price                  0\n",
       "Registered City     4636\n",
       "Transaction Type    2445\n",
       "Year                2284\n",
       "dtype: int64"
      ]
     },
     "execution_count": 9,
     "metadata": {},
     "output_type": "execute_result"
    }
   ],
   "source": [
    "df.isnull().sum()"
   ]
  },
  {
   "cell_type": "raw",
   "metadata": {},
   "source": [
    "There are so many null values in this dataset. So instead of removing we'll replace some of our data. Let's see here how"
   ]
  },
  {
   "cell_type": "code",
   "execution_count": 10,
   "metadata": {
    "scrolled": false
   },
   "outputs": [
    {
     "data": {
      "text/plain": [
       "Index(['Brand', 'Condition', 'Fuel', 'KMs Driven', 'Model', 'Price',\n",
       "       'Registered City', 'Transaction Type', 'Year'],\n",
       "      dtype='object')"
      ]
     },
     "execution_count": 10,
     "metadata": {},
     "output_type": "execute_result"
    }
   ],
   "source": [
    "df.columns"
   ]
  },
  {
   "cell_type": "code",
   "execution_count": 11,
   "metadata": {},
   "outputs": [],
   "source": [
    "#As we see most of the null values are from Registered City column\n",
    "#Also the most of the cars are registered from Karachi so we'll gonna replace nan with Karachi\n",
    "df['Registered City'].fillna(value='Karachi', inplace=True)"
   ]
  },
  {
   "cell_type": "code",
   "execution_count": 12,
   "metadata": {},
   "outputs": [],
   "source": [
    "#And most of the fuel are from petrol so we'll gonna replace nan with Petrol\n",
    "df['Fuel'].fillna(value='Petrol', inplace=True)"
   ]
  },
  {
   "cell_type": "code",
   "execution_count": 13,
   "metadata": {},
   "outputs": [],
   "source": [
    "#And most of the Transactions are from Cash so we'll gonna replace nan with Cash\n",
    "df['Transaction Type'].fillna(value='Cash', inplace=True)"
   ]
  },
  {
   "cell_type": "code",
   "execution_count": 14,
   "metadata": {},
   "outputs": [],
   "source": [
    "#And most of the Cars are used so we'll gonna replace nan with Used\n",
    "df['Condition'].fillna(value='Used', inplace=True)"
   ]
  },
  {
   "cell_type": "code",
   "execution_count": 15,
   "metadata": {},
   "outputs": [],
   "source": [
    "#And most of the Cars are of Suzuki Brand so we'll gonna replace nan with Suzuki\n",
    "df['Brand'].fillna(value='Suzuki', inplace=True)"
   ]
  },
  {
   "cell_type": "code",
   "execution_count": 16,
   "metadata": {},
   "outputs": [],
   "source": [
    "#Here we are filling our Model nan values with Cultus and Alto Values because these have most value counts in dataset\n",
    "mask = df['Model'].isna() \n",
    "ind = df['Model'].loc[mask].sample(frac=0.55).index\n",
    "df.loc[ind, 'Model'] = 'Cultus VXR'\n",
    "df['Model'] = df['Model'].fillna(\"Alto\")"
   ]
  },
  {
   "cell_type": "code",
   "execution_count": 17,
   "metadata": {},
   "outputs": [
    {
     "data": {
      "text/plain": [
       "Cultus VXR     3121\n",
       "Alto           2760\n",
       "Corolla GLI    1043\n",
       "Mehran VX      1025\n",
       "Other           920\n",
       "Name: Model, dtype: int64"
      ]
     },
     "execution_count": 17,
     "metadata": {},
     "output_type": "execute_result"
    }
   ],
   "source": [
    "df['Model'].value_counts().head()"
   ]
  },
  {
   "cell_type": "code",
   "execution_count": 18,
   "metadata": {},
   "outputs": [],
   "source": [
    "#we are filling KMs Driven null value with mean of all KMs Driven Values\n",
    "df['KMs Driven'].fillna((df['KMs Driven'].mean()),inplace = True)"
   ]
  },
  {
   "cell_type": "code",
   "execution_count": 19,
   "metadata": {},
   "outputs": [
    {
     "data": {
      "text/plain": [
       "2015.0    1448\n",
       "2007.0    1423\n",
       "2006.0    1373\n",
       "2014.0    1294\n",
       "2013.0    1178\n",
       "          ... \n",
       "1956.0       1\n",
       "1968.0       1\n",
       "2019.0       1\n",
       "1915.0       1\n",
       "1960.0       1\n",
       "Name: Year, Length: 65, dtype: int64"
      ]
     },
     "execution_count": 19,
     "metadata": {},
     "output_type": "execute_result"
    }
   ],
   "source": [
    "df['Year'].value_counts()"
   ]
  },
  {
   "cell_type": "code",
   "execution_count": 20,
   "metadata": {},
   "outputs": [],
   "source": [
    "#Here we are filling our Year nan values with 2015 and 2007 Values because these have most value counts in dataset\n",
    "mask = df['Year'].isna()\n",
    "ind = df['Year'].loc[mask].sample(frac=0.52).index\n",
    "df.loc[ind, 'Year'] = 2015.0\n",
    "df['Year'] = df['Year'].fillna(2007.0)"
   ]
  },
  {
   "cell_type": "code",
   "execution_count": 21,
   "metadata": {},
   "outputs": [
    {
     "data": {
      "text/plain": [
       "2015.0    2636\n",
       "2007.0    2519\n",
       "2006.0    1373\n",
       "2014.0    1294\n",
       "2013.0    1178\n",
       "          ... \n",
       "1956.0       1\n",
       "1968.0       1\n",
       "2019.0       1\n",
       "1915.0       1\n",
       "1960.0       1\n",
       "Name: Year, Length: 65, dtype: int64"
      ]
     },
     "execution_count": 21,
     "metadata": {},
     "output_type": "execute_result"
    }
   ],
   "source": [
    "df['Year'].value_counts()"
   ]
  },
  {
   "cell_type": "code",
   "execution_count": 22,
   "metadata": {},
   "outputs": [
    {
     "data": {
      "text/plain": [
       "Brand               0\n",
       "Condition           0\n",
       "Fuel                0\n",
       "KMs Driven          0\n",
       "Model               0\n",
       "Price               0\n",
       "Registered City     0\n",
       "Transaction Type    0\n",
       "Year                0\n",
       "dtype: int64"
      ]
     },
     "execution_count": 22,
     "metadata": {},
     "output_type": "execute_result"
    }
   ],
   "source": [
    "df.isnull().sum()"
   ]
  },
  {
   "cell_type": "markdown",
   "metadata": {},
   "source": [
    "# Exploratory Data Analysis"
   ]
  },
  {
   "cell_type": "code",
   "execution_count": 23,
   "metadata": {},
   "outputs": [
    {
     "data": {
      "text/plain": [
       "Suzuki                11910\n",
       "Toyota                 4981\n",
       "Honda                  3324\n",
       "Daihatsu               2476\n",
       "Nissan                  745\n",
       "Mitsubishi              435\n",
       "Hyundai                 268\n",
       "Other Brands            188\n",
       "KIA                     133\n",
       "Mazda                    98\n",
       "Mercedes                 92\n",
       "FAW                      80\n",
       "Daewoo                   72\n",
       "Chevrolet                47\n",
       "BMW                      31\n",
       "Lexus                    23\n",
       "Subaru                   20\n",
       "Audi                     18\n",
       "Classic & Antiques       13\n",
       "Changan                   9\n",
       "Range Rover               7\n",
       "Porsche                   2\n",
       "Land Rover                1\n",
       "Name: Brand, dtype: int64"
      ]
     },
     "execution_count": 23,
     "metadata": {},
     "output_type": "execute_result"
    }
   ],
   "source": [
    "df['Brand'].value_counts()"
   ]
  },
  {
   "cell_type": "code",
   "execution_count": 24,
   "metadata": {},
   "outputs": [
    {
     "data": {
      "text/plain": [
       "<matplotlib.axes._subplots.AxesSubplot at 0x1b9e4365640>"
      ]
     },
     "execution_count": 24,
     "metadata": {},
     "output_type": "execute_result"
    },
    {
     "data": {
      "image/png": "[encoded data removed]",
      "text/plain": [
       "<Figure size 432x288 with 1 Axes>"
      ]
     },
     "metadata": {
      "needs_background": "light"
     },
     "output_type": "display_data"
    }
   ],
   "source": [
    "df['Condition'].hist()"
   ]
  },
  {
   "cell_type": "code",
   "execution_count": 25,
   "metadata": {},
   "outputs": [
    {
     "data": {
      "text/plain": [
       "<matplotlib.axes._subplots.AxesSubplot at 0x1b9e4441cd0>"
      ]
     },
     "execution_count": 25,
     "metadata": {},
     "output_type": "execute_result"
    },
    {
     "data": {
      "image/png": "[encoded data removed]",
      "text/plain": [
       "<Figure size 432x288 with 1 Axes>"
      ]
     },
     "metadata": {
      "needs_background": "light"
     },
     "output_type": "display_data"
    }
   ],
   "source": [
    "df['Transaction Type'].hist()"
   ]
  },
  {
   "cell_type": "code",
   "execution_count": 26,
   "metadata": {},
   "outputs": [
    {
     "data": {
      "text/plain": [
       "<matplotlib.axes._subplots.AxesSubplot at 0x1b9e44aeaf0>"
      ]
     },
     "execution_count": 26,
     "metadata": {},
     "output_type": "execute_result"
    },
    {
     "data": {
      "image/png": "[encoded data removed]",
      "text/plain": [
       "<Figure size 432x288 with 1 Axes>"
      ]
     },
     "metadata": {
      "needs_background": "light"
     },
     "output_type": "display_data"
    }
   ],
   "source": [
    "df['Fuel'].hist()"
   ]
  },
  {
   "cell_type": "code",
   "execution_count": 27,
   "metadata": {},
   "outputs": [
    {
     "data": {
      "text/plain": [
       "Petrol    16754\n",
       "CNG        6797\n",
       "Hybrid      943\n",
       "Diesel      450\n",
       "LPG          29\n",
       "Name: Fuel, dtype: int64"
      ]
     },
     "execution_count": 27,
     "metadata": {},
     "output_type": "execute_result"
    }
   ],
   "source": [
    "df['Fuel'].value_counts()"
   ]
  },
  {
   "cell_type": "code",
   "execution_count": 28,
   "metadata": {},
   "outputs": [
    {
     "data": {
      "text/plain": [
       "2015.0    2636\n",
       "2007.0    2519\n",
       "2006.0    1373\n",
       "2014.0    1294\n",
       "2013.0    1178\n",
       "          ... \n",
       "1956.0       1\n",
       "1968.0       1\n",
       "2019.0       1\n",
       "1915.0       1\n",
       "1960.0       1\n",
       "Name: Year, Length: 65, dtype: int64"
      ]
     },
     "execution_count": 28,
     "metadata": {},
     "output_type": "execute_result"
    }
   ],
   "source": [
    "df['Year'].value_counts()"
   ]
  },
  {
   "cell_type": "code",
   "execution_count": 29,
   "metadata": {},
   "outputs": [
    {
     "data": {
      "text/plain": [
       "Cultus VXR       3121\n",
       "Alto             2760\n",
       "Corolla GLI      1043\n",
       "Mehran VX        1025\n",
       "Other             920\n",
       "                 ... \n",
       "Vogue               1\n",
       "B2200               1\n",
       "MR2                 1\n",
       "cars-other-23       1\n",
       "Safari              1\n",
       "Name: Model, Length: 303, dtype: int64"
      ]
     },
     "execution_count": 29,
     "metadata": {},
     "output_type": "execute_result"
    }
   ],
   "source": [
    "df['Model'].value_counts()"
   ]
  },
  {
   "cell_type": "code",
   "execution_count": 30,
   "metadata": {},
   "outputs": [
    {
     "data": {
      "text/plain": [
       "Cultus VXR     3121\n",
       "Alto           2760\n",
       "Corolla GLI    1043\n",
       "Mehran VX      1025\n",
       "Other           920\n",
       "Mehran VXR      790\n",
       "Bolan           702\n",
       "Khyber          670\n",
       "Vitz            612\n",
       "Mira            606\n",
       "Name: Model, dtype: int64"
      ]
     },
     "execution_count": 30,
     "metadata": {},
     "output_type": "execute_result"
    }
   ],
   "source": [
    "df['Model'].value_counts().head(10)"
   ]
  },
  {
   "cell_type": "code",
   "execution_count": 31,
   "metadata": {},
   "outputs": [
    {
     "data": {
      "text/plain": [
       "Karachi         21235\n",
       "Lahore           1986\n",
       "Islamabad         986\n",
       "Rawalpindi        163\n",
       "Multan            112\n",
       "                ...  \n",
       "Khaplu              1\n",
       "Muzaffarabad        1\n",
       "Sheikhüpura         1\n",
       "Swat                1\n",
       "Chiniot             1\n",
       "Name: Registered City, Length: 61, dtype: int64"
      ]
     },
     "execution_count": 31,
     "metadata": {},
     "output_type": "execute_result"
    }
   ],
   "source": [
    "df['Registered City'].value_counts()"
   ]
  },
  {
   "cell_type": "code",
   "execution_count": 32,
   "metadata": {},
   "outputs": [
    {
     "data": {
      "text/plain": [
       "<matplotlib.axes._subplots.AxesSubplot at 0x1b9dee8f040>"
      ]
     },
     "execution_count": 32,
     "metadata": {},
     "output_type": "execute_result"
    },
    {
     "data": {
      "image/png": "[encoded data removed]",
      "text/plain": [
       "<Figure size 432x288 with 1 Axes>"
      ]
     },
     "metadata": {
      "needs_background": "light"
     },
     "output_type": "display_data"
    }
   ],
   "source": [
    "df.boxplot(column = ['Price','KMs Driven'])"
   ]
  },
  {
   "cell_type": "code",
   "execution_count": 33,
   "metadata": {},
   "outputs": [
    {
     "data": {
      "image/png": "[encoded data removed]",
      "text/plain": [
       "<Figure size 1080x1440 with 3 Axes>"
      ]
     },
     "metadata": {
      "needs_background": "light"
     },
     "output_type": "display_data"
    }
   ],
   "source": [
    "fig, (ax1, ax2, ax3) = plt.subplots(3,1, figsize=(15,20))\n",
    "sns.boxplot(x=df['Price'], data=df, ax=ax1)\n",
    "sns.boxplot(x=df['KMs Driven'], data=df, ax=ax2)\n",
    "sns.boxplot(x=df['Year'], data=df, ax=ax3)\n",
    "plt.subplots_adjust(hspace = 0.6, top = 0.6)\n",
    "plt.show()"
   ]
  },
  {
   "cell_type": "code",
   "execution_count": 34,
   "metadata": {},
   "outputs": [
    {
     "data": {
      "text/plain": [
       "<matplotlib.axes._subplots.AxesSubplot at 0x1b9e45a3d90>"
      ]
     },
     "execution_count": 34,
     "metadata": {},
     "output_type": "execute_result"
    },
    {
     "data": {
      "image/png": "[encoded data removed]",
      "text/plain": [
       "<Figure size 432x288 with 1 Axes>"
      ]
     },
     "metadata": {
      "needs_background": "light"
     },
     "output_type": "display_data"
    }
   ],
   "source": [
    "df['Price'].hist()"
   ]
  },
  {
   "cell_type": "code",
   "execution_count": 35,
   "metadata": {},
   "outputs": [
    {
     "data": {
      "text/plain": [
       "<matplotlib.axes._subplots.AxesSubplot at 0x1b9e4f90c10>"
      ]
     },
     "execution_count": 35,
     "metadata": {},
     "output_type": "execute_result"
    },
    {
     "data": {
      "image/png": "[encoded data removed]",
      "text/plain": [
       "<Figure size 432x288 with 1 Axes>"
      ]
     },
     "metadata": {
      "needs_background": "light"
     },
     "output_type": "display_data"
    }
   ],
   "source": [
    "sns.distplot(df['Price'])"
   ]
  },
  {
   "cell_type": "code",
   "execution_count": 36,
   "metadata": {},
   "outputs": [
    {
     "data": {
      "text/html": [
       "<div>\n",
       "<style scoped>\n",
       "    .dataframe tbody tr th:only-of-type {\n",
       "        vertical-align: middle;\n",
       "    }\n",
       "\n",
       "    .dataframe tbody tr th {\n",
       "        vertical-align: top;\n",
       "    }\n",
       "\n",
       "    .dataframe thead th {\n",
       "        text-align: right;\n",
       "    }\n",
       "</style>\n",
       "<table border=\"1\" class=\"dataframe\">\n",
       "  <thead>\n",
       "    <tr style=\"text-align: right;\">\n",
       "      <th></th>\n",
       "      <th>Brand</th>\n",
       "      <th>Condition</th>\n",
       "      <th>Fuel</th>\n",
       "      <th>KMs Driven</th>\n",
       "      <th>Model</th>\n",
       "      <th>Price</th>\n",
       "      <th>Registered City</th>\n",
       "      <th>Transaction Type</th>\n",
       "      <th>Year</th>\n",
       "    </tr>\n",
       "  </thead>\n",
       "  <tbody>\n",
       "    <tr>\n",
       "      <th>23095</th>\n",
       "      <td>Suzuki</td>\n",
       "      <td>New</td>\n",
       "      <td>Petrol</td>\n",
       "      <td>900.0</td>\n",
       "      <td>Ravi</td>\n",
       "      <td>87654321</td>\n",
       "      <td>Rawalpindi</td>\n",
       "      <td>Cash</td>\n",
       "      <td>2018.0</td>\n",
       "    </tr>\n",
       "    <tr>\n",
       "      <th>23116</th>\n",
       "      <td>Suzuki</td>\n",
       "      <td>New</td>\n",
       "      <td>Petrol</td>\n",
       "      <td>900.0</td>\n",
       "      <td>Ravi</td>\n",
       "      <td>87654321</td>\n",
       "      <td>Rawalpindi</td>\n",
       "      <td>Cash</td>\n",
       "      <td>2018.0</td>\n",
       "    </tr>\n",
       "    <tr>\n",
       "      <th>19688</th>\n",
       "      <td>Toyota</td>\n",
       "      <td>New</td>\n",
       "      <td>Petrol</td>\n",
       "      <td>32222.0</td>\n",
       "      <td>Land Cruiser</td>\n",
       "      <td>67000000</td>\n",
       "      <td>Karachi</td>\n",
       "      <td>Cash</td>\n",
       "      <td>2017.0</td>\n",
       "    </tr>\n",
       "  </tbody>\n",
       "</table>\n",
       "</div>"
      ],
      "text/plain": [
       "        Brand Condition    Fuel  KMs Driven         Model     Price  \\\n",
       "23095  Suzuki       New  Petrol       900.0          Ravi  87654321   \n",
       "23116  Suzuki       New  Petrol       900.0          Ravi  87654321   \n",
       "19688  Toyota       New  Petrol     32222.0  Land Cruiser  67000000   \n",
       "\n",
       "      Registered City Transaction Type    Year  \n",
       "23095      Rawalpindi             Cash  2018.0  \n",
       "23116      Rawalpindi             Cash  2018.0  \n",
       "19688         Karachi             Cash  2017.0  "
      ]
     },
     "execution_count": 36,
     "metadata": {},
     "output_type": "execute_result"
    }
   ],
   "source": [
    "df.nlargest(3, ['Price'])"
   ]
  },
  {
   "cell_type": "code",
   "execution_count": 37,
   "metadata": {},
   "outputs": [
    {
     "data": {
      "text/plain": [
       "<matplotlib.axes._subplots.AxesSubplot at 0x1b9e47a2550>"
      ]
     },
     "execution_count": 37,
     "metadata": {},
     "output_type": "execute_result"
    },
    {
     "data": {
      "image/png": "[encoded data removed]",
      "text/plain": [
       "<Figure size 432x288 with 1 Axes>"
      ]
     },
     "metadata": {
      "needs_background": "light"
     },
     "output_type": "display_data"
    }
   ],
   "source": [
    "df['KMs Driven'].hist()"
   ]
  },
  {
   "cell_type": "code",
   "execution_count": 38,
   "metadata": {},
   "outputs": [
    {
     "data": {
      "text/plain": [
       "10000000.0"
      ]
     },
     "execution_count": 38,
     "metadata": {},
     "output_type": "execute_result"
    }
   ],
   "source": [
    "df['KMs Driven'].max()"
   ]
  },
  {
   "cell_type": "code",
   "execution_count": 39,
   "metadata": {},
   "outputs": [
    {
     "data": {
      "text/plain": [
       "<matplotlib.axes._subplots.AxesSubplot at 0x1b9e47fe2b0>"
      ]
     },
     "execution_count": 39,
     "metadata": {},
     "output_type": "execute_result"
    },
    {
     "data": {
      "image/png": "[encoded data removed]",
      "text/plain": [
       "<Figure size 432x288 with 1 Axes>"
      ]
     },
     "metadata": {
      "needs_background": "light"
     },
     "output_type": "display_data"
    }
   ],
   "source": [
    "sns.distplot(df['KMs Driven'])"
   ]
  },
  {
   "cell_type": "raw",
   "metadata": {},
   "source": [
    "we will now log transform price because it is not look normally distributed"
   ]
  },
  {
   "cell_type": "code",
   "execution_count": 40,
   "metadata": {},
   "outputs": [
    {
     "data": {
      "text/html": [
       "<div>\n",
       "<style scoped>\n",
       "    .dataframe tbody tr th:only-of-type {\n",
       "        vertical-align: middle;\n",
       "    }\n",
       "\n",
       "    .dataframe tbody tr th {\n",
       "        vertical-align: top;\n",
       "    }\n",
       "\n",
       "    .dataframe thead th {\n",
       "        text-align: right;\n",
       "    }\n",
       "</style>\n",
       "<table border=\"1\" class=\"dataframe\">\n",
       "  <thead>\n",
       "    <tr style=\"text-align: right;\">\n",
       "      <th></th>\n",
       "      <th>Brand</th>\n",
       "      <th>Condition</th>\n",
       "      <th>Fuel</th>\n",
       "      <th>KMs Driven</th>\n",
       "      <th>Model</th>\n",
       "      <th>Price</th>\n",
       "      <th>Registered City</th>\n",
       "      <th>Transaction Type</th>\n",
       "      <th>Year</th>\n",
       "      <th>Log_Price</th>\n",
       "    </tr>\n",
       "  </thead>\n",
       "  <tbody>\n",
       "    <tr>\n",
       "      <th>0</th>\n",
       "      <td>Toyota</td>\n",
       "      <td>Used</td>\n",
       "      <td>Diesel</td>\n",
       "      <td>1.0</td>\n",
       "      <td>Prado</td>\n",
       "      <td>2100000</td>\n",
       "      <td>Karachi</td>\n",
       "      <td>Cash</td>\n",
       "      <td>1997.0</td>\n",
       "      <td>14.557448</td>\n",
       "    </tr>\n",
       "    <tr>\n",
       "      <th>1</th>\n",
       "      <td>Suzuki</td>\n",
       "      <td>Used</td>\n",
       "      <td>Petrol</td>\n",
       "      <td>100000.0</td>\n",
       "      <td>Bolan</td>\n",
       "      <td>380000</td>\n",
       "      <td>Karachi</td>\n",
       "      <td>Cash</td>\n",
       "      <td>2006.0</td>\n",
       "      <td>12.847927</td>\n",
       "    </tr>\n",
       "    <tr>\n",
       "      <th>2</th>\n",
       "      <td>Suzuki</td>\n",
       "      <td>Used</td>\n",
       "      <td>CNG</td>\n",
       "      <td>12345.0</td>\n",
       "      <td>Bolan</td>\n",
       "      <td>340000</td>\n",
       "      <td>Karachi</td>\n",
       "      <td>Cash</td>\n",
       "      <td>1998.0</td>\n",
       "      <td>12.736701</td>\n",
       "    </tr>\n",
       "    <tr>\n",
       "      <th>3</th>\n",
       "      <td>Suzuki</td>\n",
       "      <td>Used</td>\n",
       "      <td>Petrol</td>\n",
       "      <td>94000.0</td>\n",
       "      <td>Alto</td>\n",
       "      <td>535000</td>\n",
       "      <td>Karachi</td>\n",
       "      <td>Cash</td>\n",
       "      <td>2010.0</td>\n",
       "      <td>13.190022</td>\n",
       "    </tr>\n",
       "    <tr>\n",
       "      <th>4</th>\n",
       "      <td>Toyota</td>\n",
       "      <td>Used</td>\n",
       "      <td>Petrol</td>\n",
       "      <td>100000.0</td>\n",
       "      <td>Corolla XLI</td>\n",
       "      <td>1430000</td>\n",
       "      <td>Karachi</td>\n",
       "      <td>Cash</td>\n",
       "      <td>2013.0</td>\n",
       "      <td>14.173185</td>\n",
       "    </tr>\n",
       "    <tr>\n",
       "      <th>...</th>\n",
       "      <td>...</td>\n",
       "      <td>...</td>\n",
       "      <td>...</td>\n",
       "      <td>...</td>\n",
       "      <td>...</td>\n",
       "      <td>...</td>\n",
       "      <td>...</td>\n",
       "      <td>...</td>\n",
       "      <td>...</td>\n",
       "      <td>...</td>\n",
       "    </tr>\n",
       "    <tr>\n",
       "      <th>24968</th>\n",
       "      <td>Toyota</td>\n",
       "      <td>Used</td>\n",
       "      <td>CNG</td>\n",
       "      <td>200000.0</td>\n",
       "      <td>Corolla XE</td>\n",
       "      <td>1070000</td>\n",
       "      <td>Lahore</td>\n",
       "      <td>Cash</td>\n",
       "      <td>2001.0</td>\n",
       "      <td>13.883169</td>\n",
       "    </tr>\n",
       "    <tr>\n",
       "      <th>24969</th>\n",
       "      <td>Daihatsu</td>\n",
       "      <td>New</td>\n",
       "      <td>Petrol</td>\n",
       "      <td>10000.0</td>\n",
       "      <td>Cuore</td>\n",
       "      <td>390000</td>\n",
       "      <td>Karachi</td>\n",
       "      <td>Cash</td>\n",
       "      <td>2004.0</td>\n",
       "      <td>12.873902</td>\n",
       "    </tr>\n",
       "    <tr>\n",
       "      <th>24970</th>\n",
       "      <td>Other Brands</td>\n",
       "      <td>Used</td>\n",
       "      <td>CNG</td>\n",
       "      <td>158715.0</td>\n",
       "      <td>Other</td>\n",
       "      <td>180000</td>\n",
       "      <td>Karachi</td>\n",
       "      <td>Cash</td>\n",
       "      <td>2000.0</td>\n",
       "      <td>12.100712</td>\n",
       "    </tr>\n",
       "    <tr>\n",
       "      <th>24971</th>\n",
       "      <td>Suzuki</td>\n",
       "      <td>Used</td>\n",
       "      <td>Petrol</td>\n",
       "      <td>1.0</td>\n",
       "      <td>Alto</td>\n",
       "      <td>470000</td>\n",
       "      <td>Rawalpindi</td>\n",
       "      <td>Cash</td>\n",
       "      <td>2003.0</td>\n",
       "      <td>13.060488</td>\n",
       "    </tr>\n",
       "    <tr>\n",
       "      <th>24972</th>\n",
       "      <td>Toyota</td>\n",
       "      <td>Used</td>\n",
       "      <td>Petrol</td>\n",
       "      <td>48500.0</td>\n",
       "      <td>Corolla GLI</td>\n",
       "      <td>2050000</td>\n",
       "      <td>Lahore</td>\n",
       "      <td>Cash</td>\n",
       "      <td>2017.0</td>\n",
       "      <td>14.533350</td>\n",
       "    </tr>\n",
       "  </tbody>\n",
       "</table>\n",
       "<p>24973 rows × 10 columns</p>\n",
       "</div>"
      ],
      "text/plain": [
       "              Brand Condition    Fuel  KMs Driven        Model    Price  \\\n",
       "0            Toyota      Used  Diesel         1.0        Prado  2100000   \n",
       "1            Suzuki      Used  Petrol    100000.0        Bolan   380000   \n",
       "2            Suzuki      Used     CNG     12345.0        Bolan   340000   \n",
       "3            Suzuki      Used  Petrol     94000.0         Alto   535000   \n",
       "4            Toyota      Used  Petrol    100000.0  Corolla XLI  1430000   \n",
       "...             ...       ...     ...         ...          ...      ...   \n",
       "24968        Toyota      Used     CNG    200000.0   Corolla XE  1070000   \n",
       "24969      Daihatsu       New  Petrol     10000.0        Cuore   390000   \n",
       "24970  Other Brands      Used     CNG    158715.0        Other   180000   \n",
       "24971        Suzuki      Used  Petrol         1.0         Alto   470000   \n",
       "24972        Toyota      Used  Petrol     48500.0  Corolla GLI  2050000   \n",
       "\n",
       "      Registered City Transaction Type    Year  Log_Price  \n",
       "0             Karachi             Cash  1997.0  14.557448  \n",
       "1             Karachi             Cash  2006.0  12.847927  \n",
       "2             Karachi             Cash  1998.0  12.736701  \n",
       "3             Karachi             Cash  2010.0  13.190022  \n",
       "4             Karachi             Cash  2013.0  14.173185  \n",
       "...               ...              ...     ...        ...  \n",
       "24968          Lahore             Cash  2001.0  13.883169  \n",
       "24969         Karachi             Cash  2004.0  12.873902  \n",
       "24970         Karachi             Cash  2000.0  12.100712  \n",
       "24971      Rawalpindi             Cash  2003.0  13.060488  \n",
       "24972          Lahore             Cash  2017.0  14.533350  \n",
       "\n",
       "[24973 rows x 10 columns]"
      ]
     },
     "execution_count": 40,
     "metadata": {},
     "output_type": "execute_result"
    }
   ],
   "source": [
    "df['Log_Price'] = np.log(df['Price'])\n",
    "df"
   ]
  },
  {
   "cell_type": "code",
   "execution_count": 41,
   "metadata": {},
   "outputs": [
    {
     "data": {
      "text/plain": [
       "<matplotlib.axes._subplots.AxesSubplot at 0x1b9e48ea820>"
      ]
     },
     "execution_count": 41,
     "metadata": {},
     "output_type": "execute_result"
    },
    {
     "data": {
      "image/png": "[encoded data removed]",
      "text/plain": [
       "<Figure size 432x288 with 1 Axes>"
      ]
     },
     "metadata": {
      "needs_background": "light"
     },
     "output_type": "display_data"
    }
   ],
   "source": [
    "sns.distplot(df['Log_Price'])"
   ]
  },
  {
   "cell_type": "code",
   "execution_count": 42,
   "metadata": {},
   "outputs": [
    {
     "data": {
      "text/plain": [
       "1000000.0"
      ]
     },
     "execution_count": 42,
     "metadata": {},
     "output_type": "execute_result"
    }
   ],
   "source": [
    "q1 = df[\"KMs Driven\"].quantile(0.99)\n",
    "q1"
   ]
  },
  {
   "cell_type": "code",
   "execution_count": 43,
   "metadata": {},
   "outputs": [
    {
     "data": {
      "text/plain": [
       "Index(['Brand', 'Condition', 'Fuel', 'KMs Driven', 'Model', 'Price',\n",
       "       'Registered City', 'Transaction Type', 'Year', 'Log_Price'],\n",
       "      dtype='object')"
      ]
     },
     "execution_count": 43,
     "metadata": {},
     "output_type": "execute_result"
    }
   ],
   "source": [
    "df.columns"
   ]
  },
  {
   "cell_type": "code",
   "execution_count": 44,
   "metadata": {},
   "outputs": [
    {
     "data": {
      "text/plain": [
       "<matplotlib.axes._subplots.AxesSubplot at 0x1b9e49c2d30>"
      ]
     },
     "execution_count": 44,
     "metadata": {},
     "output_type": "execute_result"
    },
    {
     "data": {
      "image/png": "[encoded data removed]",
      "text/plain": [
       "<Figure size 432x288 with 1 Axes>"
      ]
     },
     "metadata": {
      "needs_background": "light"
     },
     "output_type": "display_data"
    }
   ],
   "source": [
    "sns.countplot(x=\"Transaction Type\", hue=\"Condition\", data=df)"
   ]
  },
  {
   "cell_type": "code",
   "execution_count": 45,
   "metadata": {},
   "outputs": [
    {
     "data": {
      "text/plain": [
       "<matplotlib.axes._subplots.AxesSubplot at 0x1b9e4a31670>"
      ]
     },
     "execution_count": 45,
     "metadata": {},
     "output_type": "execute_result"
    },
    {
     "data": {
      "image/png": "[encoded data removed]",
      "text/plain": [
       "<Figure size 432x288 with 1 Axes>"
      ]
     },
     "metadata": {
      "needs_background": "light"
     },
     "output_type": "display_data"
    }
   ],
   "source": [
    "sns.countplot(x=\"Fuel\", hue=\"Condition\", data=df)"
   ]
  },
  {
   "cell_type": "code",
   "execution_count": 46,
   "metadata": {},
   "outputs": [
    {
     "data": {
      "text/plain": [
       "<matplotlib.axes._subplots.AxesSubplot at 0x1b9e4a8e700>"
      ]
     },
     "execution_count": 46,
     "metadata": {},
     "output_type": "execute_result"
    },
    {
     "data": {
      "image/png": "[encoded data removed]",
      "text/plain": [
       "<Figure size 432x288 with 1 Axes>"
      ]
     },
     "metadata": {
      "needs_background": "light"
     },
     "output_type": "display_data"
    }
   ],
   "source": [
    "sns.countplot(\"Condition\",hue=\"Fuel\",data=df[df[\"Transaction Type\"] == \"Cash\"])"
   ]
  },
  {
   "cell_type": "code",
   "execution_count": 47,
   "metadata": {},
   "outputs": [],
   "source": [
    "df_cat = df[['Brand', 'Condition', 'Fuel', 'Model',\n",
    "       'Registered City', 'Transaction Type']]"
   ]
  },
  {
   "cell_type": "code",
   "execution_count": 48,
   "metadata": {},
   "outputs": [
    {
     "name": "stdout",
     "output_type": "stream",
     "text": [
      "graph for Brand: total = 23\n"
     ]
    },
    {
     "data": {
      "image/png": "[encoded data removed]",
      "text/plain": [
       "<Figure size 432x288 with 1 Axes>"
      ]
     },
     "metadata": {
      "needs_background": "light"
     },
     "output_type": "display_data"
    },
    {
     "name": "stdout",
     "output_type": "stream",
     "text": [
      "graph for Condition: total = 2\n"
     ]
    },
    {
     "data": {
      "image/png": "[encoded data removed]",
      "text/plain": [
       "<Figure size 432x288 with 1 Axes>"
      ]
     },
     "metadata": {
      "needs_background": "light"
     },
     "output_type": "display_data"
    },
    {
     "name": "stdout",
     "output_type": "stream",
     "text": [
      "graph for Fuel: total = 5\n"
     ]
    },
    {
     "data": {
      "image/png": "[encoded data removed]",
      "text/plain": [
       "<Figure size 432x288 with 1 Axes>"
      ]
     },
     "metadata": {
      "needs_background": "light"
     },
     "output_type": "display_data"
    },
    {
     "name": "stdout",
     "output_type": "stream",
     "text": [
      "graph for Model: total = 303\n"
     ]
    },
    {
     "data": {
      "image/png": "[encoded data removed]",
      "text/plain": [
       "<Figure size 432x288 with 1 Axes>"
      ]
     },
     "metadata": {
      "needs_background": "light"
     },
     "output_type": "display_data"
    },
    {
     "name": "stdout",
     "output_type": "stream",
     "text": [
      "graph for Registered City: total = 61\n"
     ]
    },
    {
     "data": {
      "image/png": "[encoded data removed]",
      "text/plain": [
       "<Figure size 432x288 with 1 Axes>"
      ]
     },
     "metadata": {
      "needs_background": "light"
     },
     "output_type": "display_data"
    },
    {
     "name": "stdout",
     "output_type": "stream",
     "text": [
      "graph for Transaction Type: total = 2\n"
     ]
    },
    {
     "data": {
      "image/png": "[encoded data removed]",
      "text/plain": [
       "<Figure size 432x288 with 1 Axes>"
      ]
     },
     "metadata": {
      "needs_background": "light"
     },
     "output_type": "display_data"
    }
   ],
   "source": [
    "#it will give us bar chart of above defined categories and their value counts in every graph\n",
    "#so this will be informative\n",
    "for i in df_cat.columns:\n",
    "    cat_num = df_cat[i].value_counts()\n",
    "    print(\"graph for %s: total = %d\" % (i, len(cat_num)))\n",
    "    chart = sns.barplot(x=cat_num.index, y=cat_num)\n",
    "    chart.set_xticklabels(chart.get_xticklabels(), rotation=90)\n",
    "    plt.show()"
   ]
  },
  {
   "cell_type": "code",
   "execution_count": 49,
   "metadata": {},
   "outputs": [
    {
     "name": "stdout",
     "output_type": "stream",
     "text": [
      "graph for Model: total = 20\n"
     ]
    },
    {
     "data": {
      "image/png": "[encoded data removed]",
      "text/plain": [
       "<Figure size 432x288 with 1 Axes>"
      ]
     },
     "metadata": {
      "needs_background": "light"
     },
     "output_type": "display_data"
    },
    {
     "name": "stdout",
     "output_type": "stream",
     "text": [
      "graph for Registered City: total = 20\n"
     ]
    },
    {
     "data": {
      "image/png": "[encoded data removed]",
      "text/plain": [
       "<Figure size 432x288 with 1 Axes>"
      ]
     },
     "metadata": {
      "needs_background": "light"
     },
     "output_type": "display_data"
    }
   ],
   "source": [
    "for i in df_cat[['Model','Registered City']].columns:\n",
    "    cat_num = df_cat[i].value_counts()[:20]\n",
    "    print(\"graph for %s: total = %d\" % (i, len(cat_num)))\n",
    "    chart = sns.barplot(x=cat_num.index, y=cat_num)\n",
    "    chart.set_xticklabels(chart.get_xticklabels(), rotation=90)\n",
    "    plt.show()"
   ]
  },
  {
   "cell_type": "code",
   "execution_count": 50,
   "metadata": {},
   "outputs": [
    {
     "data": {
      "text/html": [
       "<div>\n",
       "<style scoped>\n",
       "    .dataframe tbody tr th:only-of-type {\n",
       "        vertical-align: middle;\n",
       "    }\n",
       "\n",
       "    .dataframe tbody tr th {\n",
       "        vertical-align: top;\n",
       "    }\n",
       "\n",
       "    .dataframe thead tr th {\n",
       "        text-align: left;\n",
       "    }\n",
       "\n",
       "    .dataframe thead tr:last-of-type th {\n",
       "        text-align: right;\n",
       "    }\n",
       "</style>\n",
       "<table border=\"1\" class=\"dataframe\">\n",
       "  <thead>\n",
       "    <tr>\n",
       "      <th></th>\n",
       "      <th>Condition</th>\n",
       "      <th>Fuel</th>\n",
       "      <th>KMs Driven</th>\n",
       "      <th>Log_Price</th>\n",
       "      <th>Model</th>\n",
       "      <th>Price</th>\n",
       "      <th>Registered City</th>\n",
       "      <th>Transaction Type</th>\n",
       "    </tr>\n",
       "    <tr>\n",
       "      <th>Year</th>\n",
       "      <th>2015.0</th>\n",
       "      <th>2015.0</th>\n",
       "      <th>2015.0</th>\n",
       "      <th>2015.0</th>\n",
       "      <th>2015.0</th>\n",
       "      <th>2015.0</th>\n",
       "      <th>2015.0</th>\n",
       "      <th>2015.0</th>\n",
       "    </tr>\n",
       "    <tr>\n",
       "      <th>Brand</th>\n",
       "      <th></th>\n",
       "      <th></th>\n",
       "      <th></th>\n",
       "      <th></th>\n",
       "      <th></th>\n",
       "      <th></th>\n",
       "      <th></th>\n",
       "      <th></th>\n",
       "    </tr>\n",
       "  </thead>\n",
       "  <tbody>\n",
       "    <tr>\n",
       "      <th>Toyota</th>\n",
       "      <td>560</td>\n",
       "      <td>560</td>\n",
       "      <td>560</td>\n",
       "      <td>560</td>\n",
       "      <td>560</td>\n",
       "      <td>560</td>\n",
       "      <td>560</td>\n",
       "      <td>560</td>\n",
       "    </tr>\n",
       "    <tr>\n",
       "      <th>Suzuki</th>\n",
       "      <td>1524</td>\n",
       "      <td>1524</td>\n",
       "      <td>1524</td>\n",
       "      <td>1524</td>\n",
       "      <td>1524</td>\n",
       "      <td>1524</td>\n",
       "      <td>1524</td>\n",
       "      <td>1524</td>\n",
       "    </tr>\n",
       "    <tr>\n",
       "      <th>Other Brands</th>\n",
       "      <td>12</td>\n",
       "      <td>12</td>\n",
       "      <td>12</td>\n",
       "      <td>12</td>\n",
       "      <td>12</td>\n",
       "      <td>12</td>\n",
       "      <td>12</td>\n",
       "      <td>12</td>\n",
       "    </tr>\n",
       "    <tr>\n",
       "      <th>Nissan</th>\n",
       "      <td>107</td>\n",
       "      <td>107</td>\n",
       "      <td>107</td>\n",
       "      <td>107</td>\n",
       "      <td>107</td>\n",
       "      <td>107</td>\n",
       "      <td>107</td>\n",
       "      <td>107</td>\n",
       "    </tr>\n",
       "    <tr>\n",
       "      <th>Mitsubishi</th>\n",
       "      <td>25</td>\n",
       "      <td>25</td>\n",
       "      <td>25</td>\n",
       "      <td>25</td>\n",
       "      <td>25</td>\n",
       "      <td>25</td>\n",
       "      <td>25</td>\n",
       "      <td>25</td>\n",
       "    </tr>\n",
       "    <tr>\n",
       "      <th>Mercedes</th>\n",
       "      <td>2</td>\n",
       "      <td>2</td>\n",
       "      <td>2</td>\n",
       "      <td>2</td>\n",
       "      <td>2</td>\n",
       "      <td>2</td>\n",
       "      <td>2</td>\n",
       "      <td>2</td>\n",
       "    </tr>\n",
       "    <tr>\n",
       "      <th>Mazda</th>\n",
       "      <td>11</td>\n",
       "      <td>11</td>\n",
       "      <td>11</td>\n",
       "      <td>11</td>\n",
       "      <td>11</td>\n",
       "      <td>11</td>\n",
       "      <td>11</td>\n",
       "      <td>11</td>\n",
       "    </tr>\n",
       "    <tr>\n",
       "      <th>Lexus</th>\n",
       "      <td>1</td>\n",
       "      <td>1</td>\n",
       "      <td>1</td>\n",
       "      <td>1</td>\n",
       "      <td>1</td>\n",
       "      <td>1</td>\n",
       "      <td>1</td>\n",
       "      <td>1</td>\n",
       "    </tr>\n",
       "    <tr>\n",
       "      <th>Land Rover</th>\n",
       "      <td>1</td>\n",
       "      <td>1</td>\n",
       "      <td>1</td>\n",
       "      <td>1</td>\n",
       "      <td>1</td>\n",
       "      <td>1</td>\n",
       "      <td>1</td>\n",
       "      <td>1</td>\n",
       "    </tr>\n",
       "    <tr>\n",
       "      <th>KIA</th>\n",
       "      <td>1</td>\n",
       "      <td>1</td>\n",
       "      <td>1</td>\n",
       "      <td>1</td>\n",
       "      <td>1</td>\n",
       "      <td>1</td>\n",
       "      <td>1</td>\n",
       "      <td>1</td>\n",
       "    </tr>\n",
       "    <tr>\n",
       "      <th>Hyundai</th>\n",
       "      <td>1</td>\n",
       "      <td>1</td>\n",
       "      <td>1</td>\n",
       "      <td>1</td>\n",
       "      <td>1</td>\n",
       "      <td>1</td>\n",
       "      <td>1</td>\n",
       "      <td>1</td>\n",
       "    </tr>\n",
       "    <tr>\n",
       "      <th>Honda</th>\n",
       "      <td>189</td>\n",
       "      <td>189</td>\n",
       "      <td>189</td>\n",
       "      <td>189</td>\n",
       "      <td>189</td>\n",
       "      <td>189</td>\n",
       "      <td>189</td>\n",
       "      <td>189</td>\n",
       "    </tr>\n",
       "    <tr>\n",
       "      <th>FAW</th>\n",
       "      <td>6</td>\n",
       "      <td>6</td>\n",
       "      <td>6</td>\n",
       "      <td>6</td>\n",
       "      <td>6</td>\n",
       "      <td>6</td>\n",
       "      <td>6</td>\n",
       "      <td>6</td>\n",
       "    </tr>\n",
       "    <tr>\n",
       "      <th>Daihatsu</th>\n",
       "      <td>192</td>\n",
       "      <td>192</td>\n",
       "      <td>192</td>\n",
       "      <td>192</td>\n",
       "      <td>192</td>\n",
       "      <td>192</td>\n",
       "      <td>192</td>\n",
       "      <td>192</td>\n",
       "    </tr>\n",
       "    <tr>\n",
       "      <th>Chevrolet</th>\n",
       "      <td>1</td>\n",
       "      <td>1</td>\n",
       "      <td>1</td>\n",
       "      <td>1</td>\n",
       "      <td>1</td>\n",
       "      <td>1</td>\n",
       "      <td>1</td>\n",
       "      <td>1</td>\n",
       "    </tr>\n",
       "    <tr>\n",
       "      <th>BMW</th>\n",
       "      <td>1</td>\n",
       "      <td>1</td>\n",
       "      <td>1</td>\n",
       "      <td>1</td>\n",
       "      <td>1</td>\n",
       "      <td>1</td>\n",
       "      <td>1</td>\n",
       "      <td>1</td>\n",
       "    </tr>\n",
       "    <tr>\n",
       "      <th>Audi</th>\n",
       "      <td>2</td>\n",
       "      <td>2</td>\n",
       "      <td>2</td>\n",
       "      <td>2</td>\n",
       "      <td>2</td>\n",
       "      <td>2</td>\n",
       "      <td>2</td>\n",
       "      <td>2</td>\n",
       "    </tr>\n",
       "  </tbody>\n",
       "</table>\n",
       "</div>"
      ],
      "text/plain": [
       "             Condition   Fuel KMs Driven Log_Price  Model  Price  \\\n",
       "Year            2015.0 2015.0     2015.0    2015.0 2015.0 2015.0   \n",
       "Brand                                                              \n",
       "Toyota             560    560        560       560    560    560   \n",
       "Suzuki            1524   1524       1524      1524   1524   1524   \n",
       "Other Brands        12     12         12        12     12     12   \n",
       "Nissan             107    107        107       107    107    107   \n",
       "Mitsubishi          25     25         25        25     25     25   \n",
       "Mercedes             2      2          2         2      2      2   \n",
       "Mazda               11     11         11        11     11     11   \n",
       "Lexus                1      1          1         1      1      1   \n",
       "Land Rover           1      1          1         1      1      1   \n",
       "KIA                  1      1          1         1      1      1   \n",
       "Hyundai              1      1          1         1      1      1   \n",
       "Honda              189    189        189       189    189    189   \n",
       "FAW                  6      6          6         6      6      6   \n",
       "Daihatsu           192    192        192       192    192    192   \n",
       "Chevrolet            1      1          1         1      1      1   \n",
       "BMW                  1      1          1         1      1      1   \n",
       "Audi                 2      2          2         2      2      2   \n",
       "\n",
       "             Registered City Transaction Type  \n",
       "Year                  2015.0           2015.0  \n",
       "Brand                                          \n",
       "Toyota                   560              560  \n",
       "Suzuki                  1524             1524  \n",
       "Other Brands              12               12  \n",
       "Nissan                   107              107  \n",
       "Mitsubishi                25               25  \n",
       "Mercedes                   2                2  \n",
       "Mazda                     11               11  \n",
       "Lexus                      1                1  \n",
       "Land Rover                 1                1  \n",
       "KIA                        1                1  \n",
       "Hyundai                    1                1  \n",
       "Honda                    189              189  \n",
       "FAW                        6                6  \n",
       "Daihatsu                 192              192  \n",
       "Chevrolet                  1                1  \n",
       "BMW                        1                1  \n",
       "Audi                       2                2  "
      ]
     },
     "execution_count": 50,
     "metadata": {},
     "output_type": "execute_result"
    }
   ],
   "source": [
    "pd.pivot_table(df[df['Year'] == 2015.0], index = 'Brand', columns = 'Year', aggfunc = 'count').sort_values('Brand', ascending = False)"
   ]
  },
  {
   "cell_type": "code",
   "execution_count": 51,
   "metadata": {},
   "outputs": [
    {
     "data": {
      "text/html": [
       "<div>\n",
       "<style scoped>\n",
       "    .dataframe tbody tr th:only-of-type {\n",
       "        vertical-align: middle;\n",
       "    }\n",
       "\n",
       "    .dataframe tbody tr th {\n",
       "        vertical-align: top;\n",
       "    }\n",
       "\n",
       "    .dataframe thead tr th {\n",
       "        text-align: left;\n",
       "    }\n",
       "\n",
       "    .dataframe thead tr:last-of-type th {\n",
       "        text-align: right;\n",
       "    }\n",
       "</style>\n",
       "<table border=\"1\" class=\"dataframe\">\n",
       "  <thead>\n",
       "    <tr>\n",
       "      <th></th>\n",
       "      <th>Condition</th>\n",
       "      <th>Fuel</th>\n",
       "      <th>KMs Driven</th>\n",
       "      <th>Log_Price</th>\n",
       "      <th>Model</th>\n",
       "      <th>Price</th>\n",
       "      <th>Registered City</th>\n",
       "      <th>Transaction Type</th>\n",
       "    </tr>\n",
       "    <tr>\n",
       "      <th>Year</th>\n",
       "      <th>2007.0</th>\n",
       "      <th>2007.0</th>\n",
       "      <th>2007.0</th>\n",
       "      <th>2007.0</th>\n",
       "      <th>2007.0</th>\n",
       "      <th>2007.0</th>\n",
       "      <th>2007.0</th>\n",
       "      <th>2007.0</th>\n",
       "    </tr>\n",
       "    <tr>\n",
       "      <th>Brand</th>\n",
       "      <th></th>\n",
       "      <th></th>\n",
       "      <th></th>\n",
       "      <th></th>\n",
       "      <th></th>\n",
       "      <th></th>\n",
       "      <th></th>\n",
       "      <th></th>\n",
       "    </tr>\n",
       "  </thead>\n",
       "  <tbody>\n",
       "    <tr>\n",
       "      <th>Toyota</th>\n",
       "      <td>283</td>\n",
       "      <td>283</td>\n",
       "      <td>283</td>\n",
       "      <td>283</td>\n",
       "      <td>283</td>\n",
       "      <td>283</td>\n",
       "      <td>283</td>\n",
       "      <td>283</td>\n",
       "    </tr>\n",
       "    <tr>\n",
       "      <th>Suzuki</th>\n",
       "      <td>1809</td>\n",
       "      <td>1809</td>\n",
       "      <td>1809</td>\n",
       "      <td>1809</td>\n",
       "      <td>1809</td>\n",
       "      <td>1809</td>\n",
       "      <td>1809</td>\n",
       "      <td>1809</td>\n",
       "    </tr>\n",
       "    <tr>\n",
       "      <th>Subaru</th>\n",
       "      <td>1</td>\n",
       "      <td>1</td>\n",
       "      <td>1</td>\n",
       "      <td>1</td>\n",
       "      <td>1</td>\n",
       "      <td>1</td>\n",
       "      <td>1</td>\n",
       "      <td>1</td>\n",
       "    </tr>\n",
       "    <tr>\n",
       "      <th>Range Rover</th>\n",
       "      <td>2</td>\n",
       "      <td>2</td>\n",
       "      <td>2</td>\n",
       "      <td>2</td>\n",
       "      <td>2</td>\n",
       "      <td>2</td>\n",
       "      <td>2</td>\n",
       "      <td>2</td>\n",
       "    </tr>\n",
       "    <tr>\n",
       "      <th>Other Brands</th>\n",
       "      <td>11</td>\n",
       "      <td>11</td>\n",
       "      <td>11</td>\n",
       "      <td>11</td>\n",
       "      <td>11</td>\n",
       "      <td>11</td>\n",
       "      <td>11</td>\n",
       "      <td>11</td>\n",
       "    </tr>\n",
       "    <tr>\n",
       "      <th>Nissan</th>\n",
       "      <td>38</td>\n",
       "      <td>38</td>\n",
       "      <td>38</td>\n",
       "      <td>38</td>\n",
       "      <td>38</td>\n",
       "      <td>38</td>\n",
       "      <td>38</td>\n",
       "      <td>38</td>\n",
       "    </tr>\n",
       "    <tr>\n",
       "      <th>Mitsubishi</th>\n",
       "      <td>34</td>\n",
       "      <td>34</td>\n",
       "      <td>34</td>\n",
       "      <td>34</td>\n",
       "      <td>34</td>\n",
       "      <td>34</td>\n",
       "      <td>34</td>\n",
       "      <td>34</td>\n",
       "    </tr>\n",
       "    <tr>\n",
       "      <th>Mercedes</th>\n",
       "      <td>6</td>\n",
       "      <td>6</td>\n",
       "      <td>6</td>\n",
       "      <td>6</td>\n",
       "      <td>6</td>\n",
       "      <td>6</td>\n",
       "      <td>6</td>\n",
       "      <td>6</td>\n",
       "    </tr>\n",
       "    <tr>\n",
       "      <th>Mazda</th>\n",
       "      <td>9</td>\n",
       "      <td>9</td>\n",
       "      <td>9</td>\n",
       "      <td>9</td>\n",
       "      <td>9</td>\n",
       "      <td>9</td>\n",
       "      <td>9</td>\n",
       "      <td>9</td>\n",
       "    </tr>\n",
       "    <tr>\n",
       "      <th>Lexus</th>\n",
       "      <td>2</td>\n",
       "      <td>2</td>\n",
       "      <td>2</td>\n",
       "      <td>2</td>\n",
       "      <td>2</td>\n",
       "      <td>2</td>\n",
       "      <td>2</td>\n",
       "      <td>2</td>\n",
       "    </tr>\n",
       "    <tr>\n",
       "      <th>KIA</th>\n",
       "      <td>1</td>\n",
       "      <td>1</td>\n",
       "      <td>1</td>\n",
       "      <td>1</td>\n",
       "      <td>1</td>\n",
       "      <td>1</td>\n",
       "      <td>1</td>\n",
       "      <td>1</td>\n",
       "    </tr>\n",
       "    <tr>\n",
       "      <th>Hyundai</th>\n",
       "      <td>18</td>\n",
       "      <td>18</td>\n",
       "      <td>18</td>\n",
       "      <td>18</td>\n",
       "      <td>18</td>\n",
       "      <td>18</td>\n",
       "      <td>18</td>\n",
       "      <td>18</td>\n",
       "    </tr>\n",
       "    <tr>\n",
       "      <th>Honda</th>\n",
       "      <td>142</td>\n",
       "      <td>142</td>\n",
       "      <td>142</td>\n",
       "      <td>142</td>\n",
       "      <td>142</td>\n",
       "      <td>142</td>\n",
       "      <td>142</td>\n",
       "      <td>142</td>\n",
       "    </tr>\n",
       "    <tr>\n",
       "      <th>Daihatsu</th>\n",
       "      <td>152</td>\n",
       "      <td>152</td>\n",
       "      <td>152</td>\n",
       "      <td>152</td>\n",
       "      <td>152</td>\n",
       "      <td>152</td>\n",
       "      <td>152</td>\n",
       "      <td>152</td>\n",
       "    </tr>\n",
       "    <tr>\n",
       "      <th>Daewoo</th>\n",
       "      <td>1</td>\n",
       "      <td>1</td>\n",
       "      <td>1</td>\n",
       "      <td>1</td>\n",
       "      <td>1</td>\n",
       "      <td>1</td>\n",
       "      <td>1</td>\n",
       "      <td>1</td>\n",
       "    </tr>\n",
       "    <tr>\n",
       "      <th>Classic &amp; Antiques</th>\n",
       "      <td>1</td>\n",
       "      <td>1</td>\n",
       "      <td>1</td>\n",
       "      <td>1</td>\n",
       "      <td>1</td>\n",
       "      <td>1</td>\n",
       "      <td>1</td>\n",
       "      <td>1</td>\n",
       "    </tr>\n",
       "    <tr>\n",
       "      <th>Chevrolet</th>\n",
       "      <td>3</td>\n",
       "      <td>3</td>\n",
       "      <td>3</td>\n",
       "      <td>3</td>\n",
       "      <td>3</td>\n",
       "      <td>3</td>\n",
       "      <td>3</td>\n",
       "      <td>3</td>\n",
       "    </tr>\n",
       "    <tr>\n",
       "      <th>Changan</th>\n",
       "      <td>2</td>\n",
       "      <td>2</td>\n",
       "      <td>2</td>\n",
       "      <td>2</td>\n",
       "      <td>2</td>\n",
       "      <td>2</td>\n",
       "      <td>2</td>\n",
       "      <td>2</td>\n",
       "    </tr>\n",
       "    <tr>\n",
       "      <th>BMW</th>\n",
       "      <td>3</td>\n",
       "      <td>3</td>\n",
       "      <td>3</td>\n",
       "      <td>3</td>\n",
       "      <td>3</td>\n",
       "      <td>3</td>\n",
       "      <td>3</td>\n",
       "      <td>3</td>\n",
       "    </tr>\n",
       "    <tr>\n",
       "      <th>Audi</th>\n",
       "      <td>1</td>\n",
       "      <td>1</td>\n",
       "      <td>1</td>\n",
       "      <td>1</td>\n",
       "      <td>1</td>\n",
       "      <td>1</td>\n",
       "      <td>1</td>\n",
       "      <td>1</td>\n",
       "    </tr>\n",
       "  </tbody>\n",
       "</table>\n",
       "</div>"
      ],
      "text/plain": [
       "                   Condition   Fuel KMs Driven Log_Price  Model  Price  \\\n",
       "Year                  2007.0 2007.0     2007.0    2007.0 2007.0 2007.0   \n",
       "Brand                                                                    \n",
       "Toyota                   283    283        283       283    283    283   \n",
       "Suzuki                  1809   1809       1809      1809   1809   1809   \n",
       "Subaru                     1      1          1         1      1      1   \n",
       "Range Rover                2      2          2         2      2      2   \n",
       "Other Brands              11     11         11        11     11     11   \n",
       "Nissan                    38     38         38        38     38     38   \n",
       "Mitsubishi                34     34         34        34     34     34   \n",
       "Mercedes                   6      6          6         6      6      6   \n",
       "Mazda                      9      9          9         9      9      9   \n",
       "Lexus                      2      2          2         2      2      2   \n",
       "KIA                        1      1          1         1      1      1   \n",
       "Hyundai                   18     18         18        18     18     18   \n",
       "Honda                    142    142        142       142    142    142   \n",
       "Daihatsu                 152    152        152       152    152    152   \n",
       "Daewoo                     1      1          1         1      1      1   \n",
       "Classic & Antiques         1      1          1         1      1      1   \n",
       "Chevrolet                  3      3          3         3      3      3   \n",
       "Changan                    2      2          2         2      2      2   \n",
       "BMW                        3      3          3         3      3      3   \n",
       "Audi                       1      1          1         1      1      1   \n",
       "\n",
       "                   Registered City Transaction Type  \n",
       "Year                        2007.0           2007.0  \n",
       "Brand                                                \n",
       "Toyota                         283              283  \n",
       "Suzuki                        1809             1809  \n",
       "Subaru                           1                1  \n",
       "Range Rover                      2                2  \n",
       "Other Brands                    11               11  \n",
       "Nissan                          38               38  \n",
       "Mitsubishi                      34               34  \n",
       "Mercedes                         6                6  \n",
       "Mazda                            9                9  \n",
       "Lexus                            2                2  \n",
       "KIA                              1                1  \n",
       "Hyundai                         18               18  \n",
       "Honda                          142              142  \n",
       "Daihatsu                       152              152  \n",
       "Daewoo                           1                1  \n",
       "Classic & Antiques               1                1  \n",
       "Chevrolet                        3                3  \n",
       "Changan                          2                2  \n",
       "BMW                              3                3  \n",
       "Audi                             1                1  "
      ]
     },
     "execution_count": 51,
     "metadata": {},
     "output_type": "execute_result"
    }
   ],
   "source": [
    "pd.pivot_table(df[df['Year'] == 2007.0], index = 'Brand', columns = 'Year', aggfunc = 'count').sort_values('Brand', ascending = False)"
   ]
  },
  {
   "cell_type": "code",
   "execution_count": 52,
   "metadata": {},
   "outputs": [
    {
     "data": {
      "text/html": [
       "<div>\n",
       "<style scoped>\n",
       "    .dataframe tbody tr th:only-of-type {\n",
       "        vertical-align: middle;\n",
       "    }\n",
       "\n",
       "    .dataframe tbody tr th {\n",
       "        vertical-align: top;\n",
       "    }\n",
       "\n",
       "    .dataframe thead th {\n",
       "        text-align: right;\n",
       "    }\n",
       "</style>\n",
       "<table border=\"1\" class=\"dataframe\">\n",
       "  <thead>\n",
       "    <tr style=\"text-align: right;\">\n",
       "      <th>Transaction Type</th>\n",
       "      <th>Cash</th>\n",
       "      <th>Installment/Leasing</th>\n",
       "    </tr>\n",
       "    <tr>\n",
       "      <th>Brand</th>\n",
       "      <th></th>\n",
       "      <th></th>\n",
       "    </tr>\n",
       "  </thead>\n",
       "  <tbody>\n",
       "    <tr>\n",
       "      <th>Toyota</th>\n",
       "      <td>4737.0</td>\n",
       "      <td>244.0</td>\n",
       "    </tr>\n",
       "    <tr>\n",
       "      <th>Suzuki</th>\n",
       "      <td>11542.0</td>\n",
       "      <td>368.0</td>\n",
       "    </tr>\n",
       "    <tr>\n",
       "      <th>Subaru</th>\n",
       "      <td>18.0</td>\n",
       "      <td>2.0</td>\n",
       "    </tr>\n",
       "    <tr>\n",
       "      <th>Range Rover</th>\n",
       "      <td>6.0</td>\n",
       "      <td>1.0</td>\n",
       "    </tr>\n",
       "    <tr>\n",
       "      <th>Porsche</th>\n",
       "      <td>1.0</td>\n",
       "      <td>1.0</td>\n",
       "    </tr>\n",
       "    <tr>\n",
       "      <th>Other Brands</th>\n",
       "      <td>169.0</td>\n",
       "      <td>19.0</td>\n",
       "    </tr>\n",
       "    <tr>\n",
       "      <th>Nissan</th>\n",
       "      <td>699.0</td>\n",
       "      <td>46.0</td>\n",
       "    </tr>\n",
       "    <tr>\n",
       "      <th>Mitsubishi</th>\n",
       "      <td>413.0</td>\n",
       "      <td>22.0</td>\n",
       "    </tr>\n",
       "    <tr>\n",
       "      <th>Mercedes</th>\n",
       "      <td>89.0</td>\n",
       "      <td>3.0</td>\n",
       "    </tr>\n",
       "    <tr>\n",
       "      <th>Mazda</th>\n",
       "      <td>89.0</td>\n",
       "      <td>9.0</td>\n",
       "    </tr>\n",
       "    <tr>\n",
       "      <th>Lexus</th>\n",
       "      <td>19.0</td>\n",
       "      <td>4.0</td>\n",
       "    </tr>\n",
       "    <tr>\n",
       "      <th>Land Rover</th>\n",
       "      <td>NaN</td>\n",
       "      <td>1.0</td>\n",
       "    </tr>\n",
       "    <tr>\n",
       "      <th>KIA</th>\n",
       "      <td>128.0</td>\n",
       "      <td>5.0</td>\n",
       "    </tr>\n",
       "    <tr>\n",
       "      <th>Hyundai</th>\n",
       "      <td>252.0</td>\n",
       "      <td>16.0</td>\n",
       "    </tr>\n",
       "    <tr>\n",
       "      <th>Honda</th>\n",
       "      <td>3195.0</td>\n",
       "      <td>129.0</td>\n",
       "    </tr>\n",
       "    <tr>\n",
       "      <th>FAW</th>\n",
       "      <td>50.0</td>\n",
       "      <td>30.0</td>\n",
       "    </tr>\n",
       "    <tr>\n",
       "      <th>Daihatsu</th>\n",
       "      <td>2379.0</td>\n",
       "      <td>97.0</td>\n",
       "    </tr>\n",
       "    <tr>\n",
       "      <th>Daewoo</th>\n",
       "      <td>69.0</td>\n",
       "      <td>3.0</td>\n",
       "    </tr>\n",
       "    <tr>\n",
       "      <th>Classic &amp; Antiques</th>\n",
       "      <td>13.0</td>\n",
       "      <td>NaN</td>\n",
       "    </tr>\n",
       "    <tr>\n",
       "      <th>Chevrolet</th>\n",
       "      <td>39.0</td>\n",
       "      <td>8.0</td>\n",
       "    </tr>\n",
       "    <tr>\n",
       "      <th>Changan</th>\n",
       "      <td>9.0</td>\n",
       "      <td>NaN</td>\n",
       "    </tr>\n",
       "    <tr>\n",
       "      <th>BMW</th>\n",
       "      <td>28.0</td>\n",
       "      <td>3.0</td>\n",
       "    </tr>\n",
       "    <tr>\n",
       "      <th>Audi</th>\n",
       "      <td>14.0</td>\n",
       "      <td>4.0</td>\n",
       "    </tr>\n",
       "  </tbody>\n",
       "</table>\n",
       "</div>"
      ],
      "text/plain": [
       "Transaction Type       Cash  Installment/Leasing\n",
       "Brand                                           \n",
       "Toyota               4737.0                244.0\n",
       "Suzuki              11542.0                368.0\n",
       "Subaru                 18.0                  2.0\n",
       "Range Rover             6.0                  1.0\n",
       "Porsche                 1.0                  1.0\n",
       "Other Brands          169.0                 19.0\n",
       "Nissan                699.0                 46.0\n",
       "Mitsubishi            413.0                 22.0\n",
       "Mercedes               89.0                  3.0\n",
       "Mazda                  89.0                  9.0\n",
       "Lexus                  19.0                  4.0\n",
       "Land Rover              NaN                  1.0\n",
       "KIA                   128.0                  5.0\n",
       "Hyundai               252.0                 16.0\n",
       "Honda                3195.0                129.0\n",
       "FAW                    50.0                 30.0\n",
       "Daihatsu             2379.0                 97.0\n",
       "Daewoo                 69.0                  3.0\n",
       "Classic & Antiques     13.0                  NaN\n",
       "Chevrolet              39.0                  8.0\n",
       "Changan                 9.0                  NaN\n",
       "BMW                    28.0                  3.0\n",
       "Audi                   14.0                  4.0"
      ]
     },
     "execution_count": 52,
     "metadata": {},
     "output_type": "execute_result"
    }
   ],
   "source": [
    "pd.pivot_table(df, index = 'Brand', columns = 'Transaction Type', values = 'Model', aggfunc = 'count').sort_values('Brand', ascending = False)"
   ]
  },
  {
   "cell_type": "code",
   "execution_count": 53,
   "metadata": {},
   "outputs": [
    {
     "data": {
      "text/html": [
       "<div>\n",
       "<style scoped>\n",
       "    .dataframe tbody tr th:only-of-type {\n",
       "        vertical-align: middle;\n",
       "    }\n",
       "\n",
       "    .dataframe tbody tr th {\n",
       "        vertical-align: top;\n",
       "    }\n",
       "\n",
       "    .dataframe thead th {\n",
       "        text-align: right;\n",
       "    }\n",
       "</style>\n",
       "<table border=\"1\" class=\"dataframe\">\n",
       "  <thead>\n",
       "    <tr style=\"text-align: right;\">\n",
       "      <th></th>\n",
       "      <th></th>\n",
       "      <th>Model</th>\n",
       "    </tr>\n",
       "    <tr>\n",
       "      <th>Condition</th>\n",
       "      <th>Transaction Type</th>\n",
       "      <th></th>\n",
       "    </tr>\n",
       "  </thead>\n",
       "  <tbody>\n",
       "    <tr>\n",
       "      <th rowspan=\"2\" valign=\"top\">New</th>\n",
       "      <th>Cash</th>\n",
       "      <td>3924</td>\n",
       "    </tr>\n",
       "    <tr>\n",
       "      <th>Installment/Leasing</th>\n",
       "      <td>441</td>\n",
       "    </tr>\n",
       "    <tr>\n",
       "      <th rowspan=\"2\" valign=\"top\">Used</th>\n",
       "      <th>Cash</th>\n",
       "      <td>20034</td>\n",
       "    </tr>\n",
       "    <tr>\n",
       "      <th>Installment/Leasing</th>\n",
       "      <td>574</td>\n",
       "    </tr>\n",
       "  </tbody>\n",
       "</table>\n",
       "</div>"
      ],
      "text/plain": [
       "                               Model\n",
       "Condition Transaction Type          \n",
       "New       Cash                  3924\n",
       "          Installment/Leasing    441\n",
       "Used      Cash                 20034\n",
       "          Installment/Leasing    574"
      ]
     },
     "execution_count": 53,
     "metadata": {},
     "output_type": "execute_result"
    }
   ],
   "source": [
    "pd.pivot_table(df, index = ['Condition','Transaction Type'], values = 'Model', aggfunc = 'count')"
   ]
  },
  {
   "cell_type": "code",
   "execution_count": 54,
   "metadata": {},
   "outputs": [
    {
     "data": {
      "text/plain": [
       "Index(['Brand', 'Condition', 'Fuel', 'KMs Driven', 'Model', 'Price',\n",
       "       'Registered City', 'Transaction Type', 'Year', 'Log_Price'],\n",
       "      dtype='object')"
      ]
     },
     "execution_count": 54,
     "metadata": {},
     "output_type": "execute_result"
    }
   ],
   "source": [
    "df.columns"
   ]
  },
  {
   "cell_type": "code",
   "execution_count": 55,
   "metadata": {},
   "outputs": [
    {
     "data": {
      "text/html": [
       "<div>\n",
       "<style scoped>\n",
       "    .dataframe tbody tr th:only-of-type {\n",
       "        vertical-align: middle;\n",
       "    }\n",
       "\n",
       "    .dataframe tbody tr th {\n",
       "        vertical-align: top;\n",
       "    }\n",
       "\n",
       "    .dataframe thead th {\n",
       "        text-align: right;\n",
       "    }\n",
       "</style>\n",
       "<table border=\"1\" class=\"dataframe\">\n",
       "  <thead>\n",
       "    <tr style=\"text-align: right;\">\n",
       "      <th></th>\n",
       "      <th></th>\n",
       "      <th>Model</th>\n",
       "    </tr>\n",
       "    <tr>\n",
       "      <th>Condition</th>\n",
       "      <th>Brand</th>\n",
       "      <th></th>\n",
       "    </tr>\n",
       "  </thead>\n",
       "  <tbody>\n",
       "    <tr>\n",
       "      <th>Used</th>\n",
       "      <th>Toyota</th>\n",
       "      <td>3749</td>\n",
       "    </tr>\n",
       "    <tr>\n",
       "      <th>New</th>\n",
       "      <th>Toyota</th>\n",
       "      <td>1232</td>\n",
       "    </tr>\n",
       "    <tr>\n",
       "      <th>Used</th>\n",
       "      <th>Suzuki</th>\n",
       "      <td>10450</td>\n",
       "    </tr>\n",
       "    <tr>\n",
       "      <th>New</th>\n",
       "      <th>Suzuki</th>\n",
       "      <td>1460</td>\n",
       "    </tr>\n",
       "    <tr>\n",
       "      <th>Used</th>\n",
       "      <th>Subaru</th>\n",
       "      <td>19</td>\n",
       "    </tr>\n",
       "    <tr>\n",
       "      <th>New</th>\n",
       "      <th>Subaru</th>\n",
       "      <td>1</td>\n",
       "    </tr>\n",
       "    <tr>\n",
       "      <th>Used</th>\n",
       "      <th>Range Rover</th>\n",
       "      <td>6</td>\n",
       "    </tr>\n",
       "    <tr>\n",
       "      <th>New</th>\n",
       "      <th>Range Rover</th>\n",
       "      <td>1</td>\n",
       "    </tr>\n",
       "    <tr>\n",
       "      <th>Used</th>\n",
       "      <th>Porsche</th>\n",
       "      <td>2</td>\n",
       "    </tr>\n",
       "    <tr>\n",
       "      <th>New</th>\n",
       "      <th>Other Brands</th>\n",
       "      <td>34</td>\n",
       "    </tr>\n",
       "    <tr>\n",
       "      <th rowspan=\"2\" valign=\"top\">Used</th>\n",
       "      <th>Other Brands</th>\n",
       "      <td>154</td>\n",
       "    </tr>\n",
       "    <tr>\n",
       "      <th>Nissan</th>\n",
       "      <td>527</td>\n",
       "    </tr>\n",
       "    <tr>\n",
       "      <th rowspan=\"2\" valign=\"top\">New</th>\n",
       "      <th>Nissan</th>\n",
       "      <td>218</td>\n",
       "    </tr>\n",
       "    <tr>\n",
       "      <th>Mitsubishi</th>\n",
       "      <td>57</td>\n",
       "    </tr>\n",
       "    <tr>\n",
       "      <th>Used</th>\n",
       "      <th>Mitsubishi</th>\n",
       "      <td>378</td>\n",
       "    </tr>\n",
       "    <tr>\n",
       "      <th>New</th>\n",
       "      <th>Mercedes</th>\n",
       "      <td>13</td>\n",
       "    </tr>\n",
       "    <tr>\n",
       "      <th>Used</th>\n",
       "      <th>Mercedes</th>\n",
       "      <td>79</td>\n",
       "    </tr>\n",
       "    <tr>\n",
       "      <th>New</th>\n",
       "      <th>Mazda</th>\n",
       "      <td>22</td>\n",
       "    </tr>\n",
       "    <tr>\n",
       "      <th rowspan=\"2\" valign=\"top\">Used</th>\n",
       "      <th>Mazda</th>\n",
       "      <td>76</td>\n",
       "    </tr>\n",
       "    <tr>\n",
       "      <th>Lexus</th>\n",
       "      <td>17</td>\n",
       "    </tr>\n",
       "    <tr>\n",
       "      <th>New</th>\n",
       "      <th>Lexus</th>\n",
       "      <td>6</td>\n",
       "    </tr>\n",
       "    <tr>\n",
       "      <th>Used</th>\n",
       "      <th>Land Rover</th>\n",
       "      <td>1</td>\n",
       "    </tr>\n",
       "    <tr>\n",
       "      <th>New</th>\n",
       "      <th>KIA</th>\n",
       "      <td>8</td>\n",
       "    </tr>\n",
       "    <tr>\n",
       "      <th>Used</th>\n",
       "      <th>KIA</th>\n",
       "      <td>125</td>\n",
       "    </tr>\n",
       "    <tr>\n",
       "      <th>New</th>\n",
       "      <th>Hyundai</th>\n",
       "      <td>21</td>\n",
       "    </tr>\n",
       "    <tr>\n",
       "      <th>Used</th>\n",
       "      <th>Hyundai</th>\n",
       "      <td>247</td>\n",
       "    </tr>\n",
       "    <tr>\n",
       "      <th>New</th>\n",
       "      <th>Honda</th>\n",
       "      <td>661</td>\n",
       "    </tr>\n",
       "    <tr>\n",
       "      <th>Used</th>\n",
       "      <th>Honda</th>\n",
       "      <td>2663</td>\n",
       "    </tr>\n",
       "    <tr>\n",
       "      <th>New</th>\n",
       "      <th>FAW</th>\n",
       "      <td>36</td>\n",
       "    </tr>\n",
       "    <tr>\n",
       "      <th rowspan=\"2\" valign=\"top\">Used</th>\n",
       "      <th>FAW</th>\n",
       "      <td>44</td>\n",
       "    </tr>\n",
       "    <tr>\n",
       "      <th>Daihatsu</th>\n",
       "      <td>1903</td>\n",
       "    </tr>\n",
       "    <tr>\n",
       "      <th>New</th>\n",
       "      <th>Daihatsu</th>\n",
       "      <td>573</td>\n",
       "    </tr>\n",
       "    <tr>\n",
       "      <th>Used</th>\n",
       "      <th>Daewoo</th>\n",
       "      <td>67</td>\n",
       "    </tr>\n",
       "    <tr>\n",
       "      <th>New</th>\n",
       "      <th>Daewoo</th>\n",
       "      <td>5</td>\n",
       "    </tr>\n",
       "    <tr>\n",
       "      <th rowspan=\"2\" valign=\"top\">Used</th>\n",
       "      <th>Classic &amp; Antiques</th>\n",
       "      <td>13</td>\n",
       "    </tr>\n",
       "    <tr>\n",
       "      <th>Chevrolet</th>\n",
       "      <td>40</td>\n",
       "    </tr>\n",
       "    <tr>\n",
       "      <th>New</th>\n",
       "      <th>Chevrolet</th>\n",
       "      <td>7</td>\n",
       "    </tr>\n",
       "    <tr>\n",
       "      <th>Used</th>\n",
       "      <th>Changan</th>\n",
       "      <td>9</td>\n",
       "    </tr>\n",
       "    <tr>\n",
       "      <th>New</th>\n",
       "      <th>BMW</th>\n",
       "      <td>6</td>\n",
       "    </tr>\n",
       "    <tr>\n",
       "      <th rowspan=\"2\" valign=\"top\">Used</th>\n",
       "      <th>BMW</th>\n",
       "      <td>25</td>\n",
       "    </tr>\n",
       "    <tr>\n",
       "      <th>Audi</th>\n",
       "      <td>14</td>\n",
       "    </tr>\n",
       "    <tr>\n",
       "      <th>New</th>\n",
       "      <th>Audi</th>\n",
       "      <td>4</td>\n",
       "    </tr>\n",
       "  </tbody>\n",
       "</table>\n",
       "</div>"
      ],
      "text/plain": [
       "                              Model\n",
       "Condition Brand                    \n",
       "Used      Toyota               3749\n",
       "New       Toyota               1232\n",
       "Used      Suzuki              10450\n",
       "New       Suzuki               1460\n",
       "Used      Subaru                 19\n",
       "New       Subaru                  1\n",
       "Used      Range Rover             6\n",
       "New       Range Rover             1\n",
       "Used      Porsche                 2\n",
       "New       Other Brands           34\n",
       "Used      Other Brands          154\n",
       "          Nissan                527\n",
       "New       Nissan                218\n",
       "          Mitsubishi             57\n",
       "Used      Mitsubishi            378\n",
       "New       Mercedes               13\n",
       "Used      Mercedes               79\n",
       "New       Mazda                  22\n",
       "Used      Mazda                  76\n",
       "          Lexus                  17\n",
       "New       Lexus                   6\n",
       "Used      Land Rover              1\n",
       "New       KIA                     8\n",
       "Used      KIA                   125\n",
       "New       Hyundai                21\n",
       "Used      Hyundai               247\n",
       "New       Honda                 661\n",
       "Used      Honda                2663\n",
       "New       FAW                    36\n",
       "Used      FAW                    44\n",
       "          Daihatsu             1903\n",
       "New       Daihatsu              573\n",
       "Used      Daewoo                 67\n",
       "New       Daewoo                  5\n",
       "Used      Classic & Antiques     13\n",
       "          Chevrolet              40\n",
       "New       Chevrolet               7\n",
       "Used      Changan                 9\n",
       "New       BMW                     6\n",
       "Used      BMW                    25\n",
       "          Audi                   14\n",
       "New       Audi                    4"
      ]
     },
     "execution_count": 55,
     "metadata": {},
     "output_type": "execute_result"
    }
   ],
   "source": [
    "pd.pivot_table(df, index = ['Condition','Brand'], values = 'Model', aggfunc = 'count').sort_values('Brand', ascending = False)"
   ]
  },
  {
   "cell_type": "code",
   "execution_count": 56,
   "metadata": {},
   "outputs": [
    {
     "data": {
      "text/plain": [
       "<matplotlib.axes._subplots.AxesSubplot at 0x1b9e4c18520>"
      ]
     },
     "execution_count": 56,
     "metadata": {},
     "output_type": "execute_result"
    },
    {
     "data": {
      "image/png": "[encoded data removed]",
      "text/plain": [
       "<Figure size 432x288 with 1 Axes>"
      ]
     },
     "metadata": {
      "needs_background": "light"
     },
     "output_type": "display_data"
    }
   ],
   "source": [
    "sns.distplot(df['Price'])"
   ]
  },
  {
   "cell_type": "code",
   "execution_count": 57,
   "metadata": {},
   "outputs": [
    {
     "data": {
      "text/html": [
       "<div>\n",
       "<style scoped>\n",
       "    .dataframe tbody tr th:only-of-type {\n",
       "        vertical-align: middle;\n",
       "    }\n",
       "\n",
       "    .dataframe tbody tr th {\n",
       "        vertical-align: top;\n",
       "    }\n",
       "\n",
       "    .dataframe thead th {\n",
       "        text-align: right;\n",
       "    }\n",
       "</style>\n",
       "<table border=\"1\" class=\"dataframe\">\n",
       "  <thead>\n",
       "    <tr style=\"text-align: right;\">\n",
       "      <th></th>\n",
       "      <th>Brand</th>\n",
       "      <th>Condition</th>\n",
       "      <th>Fuel</th>\n",
       "      <th>KMs Driven</th>\n",
       "      <th>Model</th>\n",
       "      <th>Price</th>\n",
       "      <th>Registered City</th>\n",
       "      <th>Transaction Type</th>\n",
       "      <th>Year</th>\n",
       "      <th>Log_Price</th>\n",
       "    </tr>\n",
       "  </thead>\n",
       "  <tbody>\n",
       "    <tr>\n",
       "      <th>0</th>\n",
       "      <td>Toyota</td>\n",
       "      <td>Used</td>\n",
       "      <td>Diesel</td>\n",
       "      <td>1.0</td>\n",
       "      <td>Prado</td>\n",
       "      <td>2100000</td>\n",
       "      <td>Karachi</td>\n",
       "      <td>Cash</td>\n",
       "      <td>1997.0</td>\n",
       "      <td>14.557448</td>\n",
       "    </tr>\n",
       "    <tr>\n",
       "      <th>1</th>\n",
       "      <td>Suzuki</td>\n",
       "      <td>Used</td>\n",
       "      <td>Petrol</td>\n",
       "      <td>100000.0</td>\n",
       "      <td>Bolan</td>\n",
       "      <td>380000</td>\n",
       "      <td>Karachi</td>\n",
       "      <td>Cash</td>\n",
       "      <td>2006.0</td>\n",
       "      <td>12.847927</td>\n",
       "    </tr>\n",
       "    <tr>\n",
       "      <th>2</th>\n",
       "      <td>Suzuki</td>\n",
       "      <td>Used</td>\n",
       "      <td>CNG</td>\n",
       "      <td>12345.0</td>\n",
       "      <td>Bolan</td>\n",
       "      <td>340000</td>\n",
       "      <td>Karachi</td>\n",
       "      <td>Cash</td>\n",
       "      <td>1998.0</td>\n",
       "      <td>12.736701</td>\n",
       "    </tr>\n",
       "    <tr>\n",
       "      <th>3</th>\n",
       "      <td>Suzuki</td>\n",
       "      <td>Used</td>\n",
       "      <td>Petrol</td>\n",
       "      <td>94000.0</td>\n",
       "      <td>Alto</td>\n",
       "      <td>535000</td>\n",
       "      <td>Karachi</td>\n",
       "      <td>Cash</td>\n",
       "      <td>2010.0</td>\n",
       "      <td>13.190022</td>\n",
       "    </tr>\n",
       "    <tr>\n",
       "      <th>4</th>\n",
       "      <td>Toyota</td>\n",
       "      <td>Used</td>\n",
       "      <td>Petrol</td>\n",
       "      <td>100000.0</td>\n",
       "      <td>Corolla XLI</td>\n",
       "      <td>1430000</td>\n",
       "      <td>Karachi</td>\n",
       "      <td>Cash</td>\n",
       "      <td>2013.0</td>\n",
       "      <td>14.173185</td>\n",
       "    </tr>\n",
       "    <tr>\n",
       "      <th>...</th>\n",
       "      <td>...</td>\n",
       "      <td>...</td>\n",
       "      <td>...</td>\n",
       "      <td>...</td>\n",
       "      <td>...</td>\n",
       "      <td>...</td>\n",
       "      <td>...</td>\n",
       "      <td>...</td>\n",
       "      <td>...</td>\n",
       "      <td>...</td>\n",
       "    </tr>\n",
       "    <tr>\n",
       "      <th>24968</th>\n",
       "      <td>Toyota</td>\n",
       "      <td>Used</td>\n",
       "      <td>CNG</td>\n",
       "      <td>200000.0</td>\n",
       "      <td>Corolla XE</td>\n",
       "      <td>1070000</td>\n",
       "      <td>Lahore</td>\n",
       "      <td>Cash</td>\n",
       "      <td>2001.0</td>\n",
       "      <td>13.883169</td>\n",
       "    </tr>\n",
       "    <tr>\n",
       "      <th>24969</th>\n",
       "      <td>Daihatsu</td>\n",
       "      <td>New</td>\n",
       "      <td>Petrol</td>\n",
       "      <td>10000.0</td>\n",
       "      <td>Cuore</td>\n",
       "      <td>390000</td>\n",
       "      <td>Karachi</td>\n",
       "      <td>Cash</td>\n",
       "      <td>2004.0</td>\n",
       "      <td>12.873902</td>\n",
       "    </tr>\n",
       "    <tr>\n",
       "      <th>24970</th>\n",
       "      <td>Other Brands</td>\n",
       "      <td>Used</td>\n",
       "      <td>CNG</td>\n",
       "      <td>158715.0</td>\n",
       "      <td>Other</td>\n",
       "      <td>180000</td>\n",
       "      <td>Karachi</td>\n",
       "      <td>Cash</td>\n",
       "      <td>2000.0</td>\n",
       "      <td>12.100712</td>\n",
       "    </tr>\n",
       "    <tr>\n",
       "      <th>24971</th>\n",
       "      <td>Suzuki</td>\n",
       "      <td>Used</td>\n",
       "      <td>Petrol</td>\n",
       "      <td>1.0</td>\n",
       "      <td>Alto</td>\n",
       "      <td>470000</td>\n",
       "      <td>Rawalpindi</td>\n",
       "      <td>Cash</td>\n",
       "      <td>2003.0</td>\n",
       "      <td>13.060488</td>\n",
       "    </tr>\n",
       "    <tr>\n",
       "      <th>24972</th>\n",
       "      <td>Toyota</td>\n",
       "      <td>Used</td>\n",
       "      <td>Petrol</td>\n",
       "      <td>48500.0</td>\n",
       "      <td>Corolla GLI</td>\n",
       "      <td>2050000</td>\n",
       "      <td>Lahore</td>\n",
       "      <td>Cash</td>\n",
       "      <td>2017.0</td>\n",
       "      <td>14.533350</td>\n",
       "    </tr>\n",
       "  </tbody>\n",
       "</table>\n",
       "<p>24973 rows × 10 columns</p>\n",
       "</div>"
      ],
      "text/plain": [
       "              Brand Condition    Fuel  KMs Driven        Model    Price  \\\n",
       "0            Toyota      Used  Diesel         1.0        Prado  2100000   \n",
       "1            Suzuki      Used  Petrol    100000.0        Bolan   380000   \n",
       "2            Suzuki      Used     CNG     12345.0        Bolan   340000   \n",
       "3            Suzuki      Used  Petrol     94000.0         Alto   535000   \n",
       "4            Toyota      Used  Petrol    100000.0  Corolla XLI  1430000   \n",
       "...             ...       ...     ...         ...          ...      ...   \n",
       "24968        Toyota      Used     CNG    200000.0   Corolla XE  1070000   \n",
       "24969      Daihatsu       New  Petrol     10000.0        Cuore   390000   \n",
       "24970  Other Brands      Used     CNG    158715.0        Other   180000   \n",
       "24971        Suzuki      Used  Petrol         1.0         Alto   470000   \n",
       "24972        Toyota      Used  Petrol     48500.0  Corolla GLI  2050000   \n",
       "\n",
       "      Registered City Transaction Type    Year  Log_Price  \n",
       "0             Karachi             Cash  1997.0  14.557448  \n",
       "1             Karachi             Cash  2006.0  12.847927  \n",
       "2             Karachi             Cash  1998.0  12.736701  \n",
       "3             Karachi             Cash  2010.0  13.190022  \n",
       "4             Karachi             Cash  2013.0  14.173185  \n",
       "...               ...              ...     ...        ...  \n",
       "24968          Lahore             Cash  2001.0  13.883169  \n",
       "24969         Karachi             Cash  2004.0  12.873902  \n",
       "24970         Karachi             Cash  2000.0  12.100712  \n",
       "24971      Rawalpindi             Cash  2003.0  13.060488  \n",
       "24972          Lahore             Cash  2017.0  14.533350  \n",
       "\n",
       "[24973 rows x 10 columns]"
      ]
     },
     "execution_count": 57,
     "metadata": {},
     "output_type": "execute_result"
    }
   ],
   "source": [
    "df"
   ]
  },
  {
   "cell_type": "code",
   "execution_count": 58,
   "metadata": {},
   "outputs": [
    {
     "data": {
      "text/html": [
       "<div>\n",
       "<style scoped>\n",
       "    .dataframe tbody tr th:only-of-type {\n",
       "        vertical-align: middle;\n",
       "    }\n",
       "\n",
       "    .dataframe tbody tr th {\n",
       "        vertical-align: top;\n",
       "    }\n",
       "\n",
       "    .dataframe thead th {\n",
       "        text-align: right;\n",
       "    }\n",
       "</style>\n",
       "<table border=\"1\" class=\"dataframe\">\n",
       "  <thead>\n",
       "    <tr style=\"text-align: right;\">\n",
       "      <th></th>\n",
       "      <th>Brand</th>\n",
       "      <th>Condition</th>\n",
       "      <th>Fuel</th>\n",
       "      <th>KMs Driven</th>\n",
       "      <th>Model</th>\n",
       "      <th>Registered City</th>\n",
       "      <th>Transaction Type</th>\n",
       "      <th>Year</th>\n",
       "      <th>Log_Price</th>\n",
       "    </tr>\n",
       "  </thead>\n",
       "  <tbody>\n",
       "    <tr>\n",
       "      <th>0</th>\n",
       "      <td>Toyota</td>\n",
       "      <td>Used</td>\n",
       "      <td>Diesel</td>\n",
       "      <td>1.0</td>\n",
       "      <td>Prado</td>\n",
       "      <td>Karachi</td>\n",
       "      <td>Cash</td>\n",
       "      <td>1997.0</td>\n",
       "      <td>14.557448</td>\n",
       "    </tr>\n",
       "    <tr>\n",
       "      <th>1</th>\n",
       "      <td>Suzuki</td>\n",
       "      <td>Used</td>\n",
       "      <td>Petrol</td>\n",
       "      <td>100000.0</td>\n",
       "      <td>Bolan</td>\n",
       "      <td>Karachi</td>\n",
       "      <td>Cash</td>\n",
       "      <td>2006.0</td>\n",
       "      <td>12.847927</td>\n",
       "    </tr>\n",
       "    <tr>\n",
       "      <th>2</th>\n",
       "      <td>Suzuki</td>\n",
       "      <td>Used</td>\n",
       "      <td>CNG</td>\n",
       "      <td>12345.0</td>\n",
       "      <td>Bolan</td>\n",
       "      <td>Karachi</td>\n",
       "      <td>Cash</td>\n",
       "      <td>1998.0</td>\n",
       "      <td>12.736701</td>\n",
       "    </tr>\n",
       "    <tr>\n",
       "      <th>3</th>\n",
       "      <td>Suzuki</td>\n",
       "      <td>Used</td>\n",
       "      <td>Petrol</td>\n",
       "      <td>94000.0</td>\n",
       "      <td>Alto</td>\n",
       "      <td>Karachi</td>\n",
       "      <td>Cash</td>\n",
       "      <td>2010.0</td>\n",
       "      <td>13.190022</td>\n",
       "    </tr>\n",
       "    <tr>\n",
       "      <th>4</th>\n",
       "      <td>Toyota</td>\n",
       "      <td>Used</td>\n",
       "      <td>Petrol</td>\n",
       "      <td>100000.0</td>\n",
       "      <td>Corolla XLI</td>\n",
       "      <td>Karachi</td>\n",
       "      <td>Cash</td>\n",
       "      <td>2013.0</td>\n",
       "      <td>14.173185</td>\n",
       "    </tr>\n",
       "    <tr>\n",
       "      <th>...</th>\n",
       "      <td>...</td>\n",
       "      <td>...</td>\n",
       "      <td>...</td>\n",
       "      <td>...</td>\n",
       "      <td>...</td>\n",
       "      <td>...</td>\n",
       "      <td>...</td>\n",
       "      <td>...</td>\n",
       "      <td>...</td>\n",
       "    </tr>\n",
       "    <tr>\n",
       "      <th>24968</th>\n",
       "      <td>Toyota</td>\n",
       "      <td>Used</td>\n",
       "      <td>CNG</td>\n",
       "      <td>200000.0</td>\n",
       "      <td>Corolla XE</td>\n",
       "      <td>Lahore</td>\n",
       "      <td>Cash</td>\n",
       "      <td>2001.0</td>\n",
       "      <td>13.883169</td>\n",
       "    </tr>\n",
       "    <tr>\n",
       "      <th>24969</th>\n",
       "      <td>Daihatsu</td>\n",
       "      <td>New</td>\n",
       "      <td>Petrol</td>\n",
       "      <td>10000.0</td>\n",
       "      <td>Cuore</td>\n",
       "      <td>Karachi</td>\n",
       "      <td>Cash</td>\n",
       "      <td>2004.0</td>\n",
       "      <td>12.873902</td>\n",
       "    </tr>\n",
       "    <tr>\n",
       "      <th>24970</th>\n",
       "      <td>Other Brands</td>\n",
       "      <td>Used</td>\n",
       "      <td>CNG</td>\n",
       "      <td>158715.0</td>\n",
       "      <td>Other</td>\n",
       "      <td>Karachi</td>\n",
       "      <td>Cash</td>\n",
       "      <td>2000.0</td>\n",
       "      <td>12.100712</td>\n",
       "    </tr>\n",
       "    <tr>\n",
       "      <th>24971</th>\n",
       "      <td>Suzuki</td>\n",
       "      <td>Used</td>\n",
       "      <td>Petrol</td>\n",
       "      <td>1.0</td>\n",
       "      <td>Alto</td>\n",
       "      <td>Rawalpindi</td>\n",
       "      <td>Cash</td>\n",
       "      <td>2003.0</td>\n",
       "      <td>13.060488</td>\n",
       "    </tr>\n",
       "    <tr>\n",
       "      <th>24972</th>\n",
       "      <td>Toyota</td>\n",
       "      <td>Used</td>\n",
       "      <td>Petrol</td>\n",
       "      <td>48500.0</td>\n",
       "      <td>Corolla GLI</td>\n",
       "      <td>Lahore</td>\n",
       "      <td>Cash</td>\n",
       "      <td>2017.0</td>\n",
       "      <td>14.533350</td>\n",
       "    </tr>\n",
       "  </tbody>\n",
       "</table>\n",
       "<p>24973 rows × 9 columns</p>\n",
       "</div>"
      ],
      "text/plain": [
       "              Brand Condition    Fuel  KMs Driven        Model  \\\n",
       "0            Toyota      Used  Diesel         1.0        Prado   \n",
       "1            Suzuki      Used  Petrol    100000.0        Bolan   \n",
       "2            Suzuki      Used     CNG     12345.0        Bolan   \n",
       "3            Suzuki      Used  Petrol     94000.0         Alto   \n",
       "4            Toyota      Used  Petrol    100000.0  Corolla XLI   \n",
       "...             ...       ...     ...         ...          ...   \n",
       "24968        Toyota      Used     CNG    200000.0   Corolla XE   \n",
       "24969      Daihatsu       New  Petrol     10000.0        Cuore   \n",
       "24970  Other Brands      Used     CNG    158715.0        Other   \n",
       "24971        Suzuki      Used  Petrol         1.0         Alto   \n",
       "24972        Toyota      Used  Petrol     48500.0  Corolla GLI   \n",
       "\n",
       "      Registered City Transaction Type    Year  Log_Price  \n",
       "0             Karachi             Cash  1997.0  14.557448  \n",
       "1             Karachi             Cash  2006.0  12.847927  \n",
       "2             Karachi             Cash  1998.0  12.736701  \n",
       "3             Karachi             Cash  2010.0  13.190022  \n",
       "4             Karachi             Cash  2013.0  14.173185  \n",
       "...               ...              ...     ...        ...  \n",
       "24968          Lahore             Cash  2001.0  13.883169  \n",
       "24969         Karachi             Cash  2004.0  12.873902  \n",
       "24970         Karachi             Cash  2000.0  12.100712  \n",
       "24971      Rawalpindi             Cash  2003.0  13.060488  \n",
       "24972          Lahore             Cash  2017.0  14.533350  \n",
       "\n",
       "[24973 rows x 9 columns]"
      ]
     },
     "execution_count": 58,
     "metadata": {},
     "output_type": "execute_result"
    }
   ],
   "source": [
    "#So we will drop Price column\n",
    "df.drop('Price', axis =1)"
   ]
  },
  {
   "cell_type": "code",
   "execution_count": 59,
   "metadata": {},
   "outputs": [],
   "source": [
    "df.to_csv('usedCarPrice_EDA.csv',index = False)"
   ]
  },
  {
   "cell_type": "markdown",
   "metadata": {},
   "source": [
    "# Model Building"
   ]
  },
  {
   "cell_type": "code",
   "execution_count": 60,
   "metadata": {},
   "outputs": [
    {
     "data": {
      "text/html": [
       "<div>\n",
       "<style scoped>\n",
       "    .dataframe tbody tr th:only-of-type {\n",
       "        vertical-align: middle;\n",
       "    }\n",
       "\n",
       "    .dataframe tbody tr th {\n",
       "        vertical-align: top;\n",
       "    }\n",
       "\n",
       "    .dataframe thead th {\n",
       "        text-align: right;\n",
       "    }\n",
       "</style>\n",
       "<table border=\"1\" class=\"dataframe\">\n",
       "  <thead>\n",
       "    <tr style=\"text-align: right;\">\n",
       "      <th></th>\n",
       "      <th>Log_Price</th>\n",
       "      <th>KMs Driven</th>\n",
       "      <th>Year</th>\n",
       "      <th>Brand_Audi</th>\n",
       "      <th>Brand_BMW</th>\n",
       "      <th>Brand_Changan</th>\n",
       "      <th>Brand_Chevrolet</th>\n",
       "      <th>Brand_Classic &amp; Antiques</th>\n",
       "      <th>Brand_Daewoo</th>\n",
       "      <th>Brand_Daihatsu</th>\n",
       "      <th>...</th>\n",
       "      <th>Registered City_Sialkot</th>\n",
       "      <th>Registered City_Sukkar</th>\n",
       "      <th>Registered City_Sukkur</th>\n",
       "      <th>Registered City_Swabi</th>\n",
       "      <th>Registered City_Swat</th>\n",
       "      <th>Registered City_Tank</th>\n",
       "      <th>Registered City_Vehari</th>\n",
       "      <th>Registered City_Wah</th>\n",
       "      <th>Transaction Type_Cash</th>\n",
       "      <th>Transaction Type_Installment/Leasing</th>\n",
       "    </tr>\n",
       "  </thead>\n",
       "  <tbody>\n",
       "    <tr>\n",
       "      <th>0</th>\n",
       "      <td>14.557448</td>\n",
       "      <td>1.0</td>\n",
       "      <td>1997.0</td>\n",
       "      <td>0</td>\n",
       "      <td>0</td>\n",
       "      <td>0</td>\n",
       "      <td>0</td>\n",
       "      <td>0</td>\n",
       "      <td>0</td>\n",
       "      <td>0</td>\n",
       "      <td>...</td>\n",
       "      <td>0</td>\n",
       "      <td>0</td>\n",
       "      <td>0</td>\n",
       "      <td>0</td>\n",
       "      <td>0</td>\n",
       "      <td>0</td>\n",
       "      <td>0</td>\n",
       "      <td>0</td>\n",
       "      <td>1</td>\n",
       "      <td>0</td>\n",
       "    </tr>\n",
       "    <tr>\n",
       "      <th>1</th>\n",
       "      <td>12.847927</td>\n",
       "      <td>100000.0</td>\n",
       "      <td>2006.0</td>\n",
       "      <td>0</td>\n",
       "      <td>0</td>\n",
       "      <td>0</td>\n",
       "      <td>0</td>\n",
       "      <td>0</td>\n",
       "      <td>0</td>\n",
       "      <td>0</td>\n",
       "      <td>...</td>\n",
       "      <td>0</td>\n",
       "      <td>0</td>\n",
       "      <td>0</td>\n",
       "      <td>0</td>\n",
       "      <td>0</td>\n",
       "      <td>0</td>\n",
       "      <td>0</td>\n",
       "      <td>0</td>\n",
       "      <td>1</td>\n",
       "      <td>0</td>\n",
       "    </tr>\n",
       "    <tr>\n",
       "      <th>2</th>\n",
       "      <td>12.736701</td>\n",
       "      <td>12345.0</td>\n",
       "      <td>1998.0</td>\n",
       "      <td>0</td>\n",
       "      <td>0</td>\n",
       "      <td>0</td>\n",
       "      <td>0</td>\n",
       "      <td>0</td>\n",
       "      <td>0</td>\n",
       "      <td>0</td>\n",
       "      <td>...</td>\n",
       "      <td>0</td>\n",
       "      <td>0</td>\n",
       "      <td>0</td>\n",
       "      <td>0</td>\n",
       "      <td>0</td>\n",
       "      <td>0</td>\n",
       "      <td>0</td>\n",
       "      <td>0</td>\n",
       "      <td>1</td>\n",
       "      <td>0</td>\n",
       "    </tr>\n",
       "    <tr>\n",
       "      <th>3</th>\n",
       "      <td>13.190022</td>\n",
       "      <td>94000.0</td>\n",
       "      <td>2010.0</td>\n",
       "      <td>0</td>\n",
       "      <td>0</td>\n",
       "      <td>0</td>\n",
       "      <td>0</td>\n",
       "      <td>0</td>\n",
       "      <td>0</td>\n",
       "      <td>0</td>\n",
       "      <td>...</td>\n",
       "      <td>0</td>\n",
       "      <td>0</td>\n",
       "      <td>0</td>\n",
       "      <td>0</td>\n",
       "      <td>0</td>\n",
       "      <td>0</td>\n",
       "      <td>0</td>\n",
       "      <td>0</td>\n",
       "      <td>1</td>\n",
       "      <td>0</td>\n",
       "    </tr>\n",
       "    <tr>\n",
       "      <th>4</th>\n",
       "      <td>14.173185</td>\n",
       "      <td>100000.0</td>\n",
       "      <td>2013.0</td>\n",
       "      <td>0</td>\n",
       "      <td>0</td>\n",
       "      <td>0</td>\n",
       "      <td>0</td>\n",
       "      <td>0</td>\n",
       "      <td>0</td>\n",
       "      <td>0</td>\n",
       "      <td>...</td>\n",
       "      <td>0</td>\n",
       "      <td>0</td>\n",
       "      <td>0</td>\n",
       "      <td>0</td>\n",
       "      <td>0</td>\n",
       "      <td>0</td>\n",
       "      <td>0</td>\n",
       "      <td>0</td>\n",
       "      <td>1</td>\n",
       "      <td>0</td>\n",
       "    </tr>\n",
       "    <tr>\n",
       "      <th>...</th>\n",
       "      <td>...</td>\n",
       "      <td>...</td>\n",
       "      <td>...</td>\n",
       "      <td>...</td>\n",
       "      <td>...</td>\n",
       "      <td>...</td>\n",
       "      <td>...</td>\n",
       "      <td>...</td>\n",
       "      <td>...</td>\n",
       "      <td>...</td>\n",
       "      <td>...</td>\n",
       "      <td>...</td>\n",
       "      <td>...</td>\n",
       "      <td>...</td>\n",
       "      <td>...</td>\n",
       "      <td>...</td>\n",
       "      <td>...</td>\n",
       "      <td>...</td>\n",
       "      <td>...</td>\n",
       "      <td>...</td>\n",
       "      <td>...</td>\n",
       "    </tr>\n",
       "    <tr>\n",
       "      <th>24968</th>\n",
       "      <td>13.883169</td>\n",
       "      <td>200000.0</td>\n",
       "      <td>2001.0</td>\n",
       "      <td>0</td>\n",
       "      <td>0</td>\n",
       "      <td>0</td>\n",
       "      <td>0</td>\n",
       "      <td>0</td>\n",
       "      <td>0</td>\n",
       "      <td>0</td>\n",
       "      <td>...</td>\n",
       "      <td>0</td>\n",
       "      <td>0</td>\n",
       "      <td>0</td>\n",
       "      <td>0</td>\n",
       "      <td>0</td>\n",
       "      <td>0</td>\n",
       "      <td>0</td>\n",
       "      <td>0</td>\n",
       "      <td>1</td>\n",
       "      <td>0</td>\n",
       "    </tr>\n",
       "    <tr>\n",
       "      <th>24969</th>\n",
       "      <td>12.873902</td>\n",
       "      <td>10000.0</td>\n",
       "      <td>2004.0</td>\n",
       "      <td>0</td>\n",
       "      <td>0</td>\n",
       "      <td>0</td>\n",
       "      <td>0</td>\n",
       "      <td>0</td>\n",
       "      <td>0</td>\n",
       "      <td>1</td>\n",
       "      <td>...</td>\n",
       "      <td>0</td>\n",
       "      <td>0</td>\n",
       "      <td>0</td>\n",
       "      <td>0</td>\n",
       "      <td>0</td>\n",
       "      <td>0</td>\n",
       "      <td>0</td>\n",
       "      <td>0</td>\n",
       "      <td>1</td>\n",
       "      <td>0</td>\n",
       "    </tr>\n",
       "    <tr>\n",
       "      <th>24970</th>\n",
       "      <td>12.100712</td>\n",
       "      <td>158715.0</td>\n",
       "      <td>2000.0</td>\n",
       "      <td>0</td>\n",
       "      <td>0</td>\n",
       "      <td>0</td>\n",
       "      <td>0</td>\n",
       "      <td>0</td>\n",
       "      <td>0</td>\n",
       "      <td>0</td>\n",
       "      <td>...</td>\n",
       "      <td>0</td>\n",
       "      <td>0</td>\n",
       "      <td>0</td>\n",
       "      <td>0</td>\n",
       "      <td>0</td>\n",
       "      <td>0</td>\n",
       "      <td>0</td>\n",
       "      <td>0</td>\n",
       "      <td>1</td>\n",
       "      <td>0</td>\n",
       "    </tr>\n",
       "    <tr>\n",
       "      <th>24971</th>\n",
       "      <td>13.060488</td>\n",
       "      <td>1.0</td>\n",
       "      <td>2003.0</td>\n",
       "      <td>0</td>\n",
       "      <td>0</td>\n",
       "      <td>0</td>\n",
       "      <td>0</td>\n",
       "      <td>0</td>\n",
       "      <td>0</td>\n",
       "      <td>0</td>\n",
       "      <td>...</td>\n",
       "      <td>0</td>\n",
       "      <td>0</td>\n",
       "      <td>0</td>\n",
       "      <td>0</td>\n",
       "      <td>0</td>\n",
       "      <td>0</td>\n",
       "      <td>0</td>\n",
       "      <td>0</td>\n",
       "      <td>1</td>\n",
       "      <td>0</td>\n",
       "    </tr>\n",
       "    <tr>\n",
       "      <th>24972</th>\n",
       "      <td>14.533350</td>\n",
       "      <td>48500.0</td>\n",
       "      <td>2017.0</td>\n",
       "      <td>0</td>\n",
       "      <td>0</td>\n",
       "      <td>0</td>\n",
       "      <td>0</td>\n",
       "      <td>0</td>\n",
       "      <td>0</td>\n",
       "      <td>0</td>\n",
       "      <td>...</td>\n",
       "      <td>0</td>\n",
       "      <td>0</td>\n",
       "      <td>0</td>\n",
       "      <td>0</td>\n",
       "      <td>0</td>\n",
       "      <td>0</td>\n",
       "      <td>0</td>\n",
       "      <td>0</td>\n",
       "      <td>1</td>\n",
       "      <td>0</td>\n",
       "    </tr>\n",
       "  </tbody>\n",
       "</table>\n",
       "<p>24973 rows × 394 columns</p>\n",
       "</div>"
      ],
      "text/plain": [
       "       Log_Price  KMs Driven    Year  Brand_Audi  Brand_BMW  Brand_Changan  \\\n",
       "0      14.557448         1.0  1997.0           0          0              0   \n",
       "1      12.847927    100000.0  2006.0           0          0              0   \n",
       "2      12.736701     12345.0  1998.0           0          0              0   \n",
       "3      13.190022     94000.0  2010.0           0          0              0   \n",
       "4      14.173185    100000.0  2013.0           0          0              0   \n",
       "...          ...         ...     ...         ...        ...            ...   \n",
       "24968  13.883169    200000.0  2001.0           0          0              0   \n",
       "24969  12.873902     10000.0  2004.0           0          0              0   \n",
       "24970  12.100712    158715.0  2000.0           0          0              0   \n",
       "24971  13.060488         1.0  2003.0           0          0              0   \n",
       "24972  14.533350     48500.0  2017.0           0          0              0   \n",
       "\n",
       "       Brand_Chevrolet  Brand_Classic & Antiques  Brand_Daewoo  \\\n",
       "0                    0                         0             0   \n",
       "1                    0                         0             0   \n",
       "2                    0                         0             0   \n",
       "3                    0                         0             0   \n",
       "4                    0                         0             0   \n",
       "...                ...                       ...           ...   \n",
       "24968                0                         0             0   \n",
       "24969                0                         0             0   \n",
       "24970                0                         0             0   \n",
       "24971                0                         0             0   \n",
       "24972                0                         0             0   \n",
       "\n",
       "       Brand_Daihatsu  ...  Registered City_Sialkot  Registered City_Sukkar  \\\n",
       "0                   0  ...                        0                       0   \n",
       "1                   0  ...                        0                       0   \n",
       "2                   0  ...                        0                       0   \n",
       "3                   0  ...                        0                       0   \n",
       "4                   0  ...                        0                       0   \n",
       "...               ...  ...                      ...                     ...   \n",
       "24968               0  ...                        0                       0   \n",
       "24969               1  ...                        0                       0   \n",
       "24970               0  ...                        0                       0   \n",
       "24971               0  ...                        0                       0   \n",
       "24972               0  ...                        0                       0   \n",
       "\n",
       "       Registered City_Sukkur  Registered City_Swabi  Registered City_Swat  \\\n",
       "0                           0                      0                     0   \n",
       "1                           0                      0                     0   \n",
       "2                           0                      0                     0   \n",
       "3                           0                      0                     0   \n",
       "4                           0                      0                     0   \n",
       "...                       ...                    ...                   ...   \n",
       "24968                       0                      0                     0   \n",
       "24969                       0                      0                     0   \n",
       "24970                       0                      0                     0   \n",
       "24971                       0                      0                     0   \n",
       "24972                       0                      0                     0   \n",
       "\n",
       "       Registered City_Tank  Registered City_Vehari  Registered City_Wah  \\\n",
       "0                         0                       0                    0   \n",
       "1                         0                       0                    0   \n",
       "2                         0                       0                    0   \n",
       "3                         0                       0                    0   \n",
       "4                         0                       0                    0   \n",
       "...                     ...                     ...                  ...   \n",
       "24968                     0                       0                    0   \n",
       "24969                     0                       0                    0   \n",
       "24970                     0                       0                    0   \n",
       "24971                     0                       0                    0   \n",
       "24972                     0                       0                    0   \n",
       "\n",
       "       Transaction Type_Cash  Transaction Type_Installment/Leasing  \n",
       "0                          1                                     0  \n",
       "1                          1                                     0  \n",
       "2                          1                                     0  \n",
       "3                          1                                     0  \n",
       "4                          1                                     0  \n",
       "...                      ...                                   ...  \n",
       "24968                      1                                     0  \n",
       "24969                      1                                     0  \n",
       "24970                      1                                     0  \n",
       "24971                      1                                     0  \n",
       "24972                      1                                     0  \n",
       "\n",
       "[24973 rows x 394 columns]"
      ]
     },
     "execution_count": 60,
     "metadata": {},
     "output_type": "execute_result"
    }
   ],
   "source": [
    "df_dum = pd.get_dummies(df[['Log_Price','Brand','Condition','KMs Driven','Model','Registered City', 'Transaction Type','Year']])\n",
    "df_dum"
   ]
  },
  {
   "cell_type": "code",
   "execution_count": 61,
   "metadata": {},
   "outputs": [],
   "source": [
    "X = df_dum.drop('Log_Price', axis =1)\n",
    "y = df_dum.Log_Price.values"
   ]
  },
  {
   "cell_type": "code",
   "execution_count": 62,
   "metadata": {},
   "outputs": [],
   "source": [
    "X_train, X_test, y_train, y_test = train_test_split(X, y, test_size=0.2, random_state=0)"
   ]
  },
  {
   "cell_type": "markdown",
   "metadata": {},
   "source": [
    "## Linear Regression"
   ]
  },
  {
   "cell_type": "code",
   "execution_count": 63,
   "metadata": {},
   "outputs": [],
   "source": [
    "lr = LinearRegression()\n",
    "lr.fit(X_train,y_train)\n",
    "lr_pred=(lr.predict(X_test))"
   ]
  },
  {
   "cell_type": "code",
   "execution_count": 64,
   "metadata": {},
   "outputs": [
    {
     "name": "stdout",
     "output_type": "stream",
     "text": [
      "75.89 percent\n"
     ]
    }
   ],
   "source": [
    "acc_lin_reg = round( lr.score(X_train, y_train) * 100, 2)\n",
    "print (str(acc_lin_reg) + ' percent')"
   ]
  },
  {
   "cell_type": "markdown",
   "metadata": {},
   "source": [
    "## Ridge Regression"
   ]
  },
  {
   "cell_type": "code",
   "execution_count": 65,
   "metadata": {},
   "outputs": [
    {
     "data": {
      "text/plain": [
       "Ridge()"
      ]
     },
     "execution_count": 65,
     "metadata": {},
     "output_type": "execute_result"
    }
   ],
   "source": [
    "ridge=Ridge()\n",
    "ridge.fit(X,y)"
   ]
  },
  {
   "cell_type": "code",
   "execution_count": 66,
   "metadata": {},
   "outputs": [],
   "source": [
    "ridge_prediction=ridge.predict(X_test)"
   ]
  },
  {
   "cell_type": "code",
   "execution_count": 67,
   "metadata": {},
   "outputs": [
    {
     "name": "stdout",
     "output_type": "stream",
     "text": [
      "75.65 percent\n"
     ]
    }
   ],
   "source": [
    "acc_ri_reg = round( ridge.score(X_train, y_train) * 100, 2)\n",
    "print (str(acc_ri_reg) + ' percent')"
   ]
  },
  {
   "cell_type": "markdown",
   "metadata": {},
   "source": [
    "## Lasso Regression"
   ]
  },
  {
   "cell_type": "code",
   "execution_count": 68,
   "metadata": {},
   "outputs": [],
   "source": [
    "lasso = Lasso()\n",
    "lasso.fit(X_train,y_train)\n",
    "lasso_pred = (lasso.predict(X_test))"
   ]
  },
  {
   "cell_type": "code",
   "execution_count": 69,
   "metadata": {},
   "outputs": [
    {
     "name": "stdout",
     "output_type": "stream",
     "text": [
      "36.21 percent\n"
     ]
    }
   ],
   "source": [
    "acc_lasso_reg = round( lasso.score(X_train, y_train) * 100, 2)\n",
    "print (str(acc_lasso_reg) + ' percent')"
   ]
  },
  {
   "cell_type": "markdown",
   "metadata": {},
   "source": [
    "## Random Forest Regression"
   ]
  },
  {
   "cell_type": "code",
   "execution_count": 70,
   "metadata": {},
   "outputs": [],
   "source": [
    "rf = RandomForestRegressor()\n",
    "rf.fit(X_train,y_train)\n",
    "rf_pred = rf.predict(X_test)"
   ]
  },
  {
   "cell_type": "code",
   "execution_count": 71,
   "metadata": {},
   "outputs": [
    {
     "name": "stdout",
     "output_type": "stream",
     "text": [
      "89.07 percent\n"
     ]
    }
   ],
   "source": [
    "acc_rf_reg = round( rf.score(X_train, y_train) * 100, 2)\n",
    "print (str(acc_rf_reg) + ' percent')"
   ]
  },
  {
   "cell_type": "markdown",
   "metadata": {},
   "source": [
    "## Decision Tree Regression"
   ]
  },
  {
   "cell_type": "code",
   "execution_count": 72,
   "metadata": {},
   "outputs": [],
   "source": [
    "dtree=DecisionTreeRegressor()\n",
    "dtree.fit(X_train,y_train)\n",
    "dtree_pred = dtree.predict(X_test)"
   ]
  },
  {
   "cell_type": "code",
   "execution_count": 73,
   "metadata": {},
   "outputs": [
    {
     "name": "stdout",
     "output_type": "stream",
     "text": [
      "90.77 percent\n"
     ]
    }
   ],
   "source": [
    "acc_dt_reg = round( dtree.score(X_train, y_train) * 100, 2)\n",
    "print (str(acc_dt_reg) + ' percent')"
   ]
  },
  {
   "cell_type": "markdown",
   "metadata": {},
   "source": [
    "## Prediction of Price"
   ]
  },
  {
   "cell_type": "code",
   "execution_count": 74,
   "metadata": {},
   "outputs": [
    {
     "data": {
      "text/html": [
       "<div>\n",
       "<style scoped>\n",
       "    .dataframe tbody tr th:only-of-type {\n",
       "        vertical-align: middle;\n",
       "    }\n",
       "\n",
       "    .dataframe tbody tr th {\n",
       "        vertical-align: top;\n",
       "    }\n",
       "\n",
       "    .dataframe thead th {\n",
       "        text-align: right;\n",
       "    }\n",
       "</style>\n",
       "<table border=\"1\" class=\"dataframe\">\n",
       "  <thead>\n",
       "    <tr style=\"text-align: right;\">\n",
       "      <th></th>\n",
       "      <th>Brand</th>\n",
       "      <th>Condition</th>\n",
       "      <th>Fuel</th>\n",
       "      <th>KMs Driven</th>\n",
       "      <th>Model</th>\n",
       "      <th>Price</th>\n",
       "      <th>Registered City</th>\n",
       "      <th>Transaction Type</th>\n",
       "      <th>Year</th>\n",
       "      <th>Log_Price</th>\n",
       "    </tr>\n",
       "  </thead>\n",
       "  <tbody>\n",
       "    <tr>\n",
       "      <th>11</th>\n",
       "      <td>Suzuki</td>\n",
       "      <td>Used</td>\n",
       "      <td>CNG</td>\n",
       "      <td>73000.0</td>\n",
       "      <td>Liana</td>\n",
       "      <td>535000</td>\n",
       "      <td>Karachi</td>\n",
       "      <td>Cash</td>\n",
       "      <td>2006.0</td>\n",
       "      <td>13.190022</td>\n",
       "    </tr>\n",
       "    <tr>\n",
       "      <th>44</th>\n",
       "      <td>Suzuki</td>\n",
       "      <td>New</td>\n",
       "      <td>CNG</td>\n",
       "      <td>73000.0</td>\n",
       "      <td>Mehran VXR</td>\n",
       "      <td>435000</td>\n",
       "      <td>Karachi</td>\n",
       "      <td>Cash</td>\n",
       "      <td>2009.0</td>\n",
       "      <td>12.983101</td>\n",
       "    </tr>\n",
       "    <tr>\n",
       "      <th>414</th>\n",
       "      <td>Honda</td>\n",
       "      <td>Used</td>\n",
       "      <td>Petrol</td>\n",
       "      <td>73000.0</td>\n",
       "      <td>Accord</td>\n",
       "      <td>985000</td>\n",
       "      <td>Karachi</td>\n",
       "      <td>Cash</td>\n",
       "      <td>2003.0</td>\n",
       "      <td>13.800397</td>\n",
       "    </tr>\n",
       "    <tr>\n",
       "      <th>665</th>\n",
       "      <td>Honda</td>\n",
       "      <td>Used</td>\n",
       "      <td>Petrol</td>\n",
       "      <td>73000.0</td>\n",
       "      <td>Civic VTi Oriel Prosmatec</td>\n",
       "      <td>1325000</td>\n",
       "      <td>Karachi</td>\n",
       "      <td>Cash</td>\n",
       "      <td>2011.0</td>\n",
       "      <td>14.096923</td>\n",
       "    </tr>\n",
       "    <tr>\n",
       "      <th>763</th>\n",
       "      <td>Suzuki</td>\n",
       "      <td>Used</td>\n",
       "      <td>Petrol</td>\n",
       "      <td>73000.0</td>\n",
       "      <td>Alto</td>\n",
       "      <td>525000</td>\n",
       "      <td>Karachi</td>\n",
       "      <td>Cash</td>\n",
       "      <td>2008.0</td>\n",
       "      <td>13.171154</td>\n",
       "    </tr>\n",
       "    <tr>\n",
       "      <th>...</th>\n",
       "      <td>...</td>\n",
       "      <td>...</td>\n",
       "      <td>...</td>\n",
       "      <td>...</td>\n",
       "      <td>...</td>\n",
       "      <td>...</td>\n",
       "      <td>...</td>\n",
       "      <td>...</td>\n",
       "      <td>...</td>\n",
       "      <td>...</td>\n",
       "    </tr>\n",
       "    <tr>\n",
       "      <th>22133</th>\n",
       "      <td>Suzuki</td>\n",
       "      <td>Used</td>\n",
       "      <td>Petrol</td>\n",
       "      <td>73000.0</td>\n",
       "      <td>Mehran VX</td>\n",
       "      <td>560000</td>\n",
       "      <td>Lahore</td>\n",
       "      <td>Cash</td>\n",
       "      <td>2013.0</td>\n",
       "      <td>13.235692</td>\n",
       "    </tr>\n",
       "    <tr>\n",
       "      <th>23299</th>\n",
       "      <td>Toyota</td>\n",
       "      <td>Used</td>\n",
       "      <td>Petrol</td>\n",
       "      <td>73000.0</td>\n",
       "      <td>Corolla XLI</td>\n",
       "      <td>1615000</td>\n",
       "      <td>Karachi</td>\n",
       "      <td>Cash</td>\n",
       "      <td>2015.0</td>\n",
       "      <td>14.294846</td>\n",
       "    </tr>\n",
       "    <tr>\n",
       "      <th>23997</th>\n",
       "      <td>Suzuki</td>\n",
       "      <td>Used</td>\n",
       "      <td>Petrol</td>\n",
       "      <td>73000.0</td>\n",
       "      <td>Mehran VX</td>\n",
       "      <td>390000</td>\n",
       "      <td>Lahore</td>\n",
       "      <td>Cash</td>\n",
       "      <td>2007.0</td>\n",
       "      <td>12.873902</td>\n",
       "    </tr>\n",
       "    <tr>\n",
       "      <th>24288</th>\n",
       "      <td>Daihatsu</td>\n",
       "      <td>Used</td>\n",
       "      <td>Petrol</td>\n",
       "      <td>73000.0</td>\n",
       "      <td>Cuore</td>\n",
       "      <td>785000</td>\n",
       "      <td>Karachi</td>\n",
       "      <td>Cash</td>\n",
       "      <td>2010.0</td>\n",
       "      <td>13.573439</td>\n",
       "    </tr>\n",
       "    <tr>\n",
       "      <th>24326</th>\n",
       "      <td>Toyota</td>\n",
       "      <td>Used</td>\n",
       "      <td>Hybrid</td>\n",
       "      <td>73000.0</td>\n",
       "      <td>Aqua</td>\n",
       "      <td>2050000</td>\n",
       "      <td>Karachi</td>\n",
       "      <td>Cash</td>\n",
       "      <td>2015.0</td>\n",
       "      <td>14.533350</td>\n",
       "    </tr>\n",
       "  </tbody>\n",
       "</table>\n",
       "<p>81 rows × 10 columns</p>\n",
       "</div>"
      ],
      "text/plain": [
       "          Brand Condition    Fuel  KMs Driven                      Model  \\\n",
       "11       Suzuki      Used     CNG     73000.0                      Liana   \n",
       "44       Suzuki       New     CNG     73000.0                 Mehran VXR   \n",
       "414       Honda      Used  Petrol     73000.0                     Accord   \n",
       "665       Honda      Used  Petrol     73000.0  Civic VTi Oriel Prosmatec   \n",
       "763      Suzuki      Used  Petrol     73000.0                       Alto   \n",
       "...         ...       ...     ...         ...                        ...   \n",
       "22133    Suzuki      Used  Petrol     73000.0                  Mehran VX   \n",
       "23299    Toyota      Used  Petrol     73000.0                Corolla XLI   \n",
       "23997    Suzuki      Used  Petrol     73000.0                  Mehran VX   \n",
       "24288  Daihatsu      Used  Petrol     73000.0                      Cuore   \n",
       "24326    Toyota      Used  Hybrid     73000.0                       Aqua   \n",
       "\n",
       "         Price Registered City Transaction Type    Year  Log_Price  \n",
       "11      535000         Karachi             Cash  2006.0  13.190022  \n",
       "44      435000         Karachi             Cash  2009.0  12.983101  \n",
       "414     985000         Karachi             Cash  2003.0  13.800397  \n",
       "665    1325000         Karachi             Cash  2011.0  14.096923  \n",
       "763     525000         Karachi             Cash  2008.0  13.171154  \n",
       "...        ...             ...              ...     ...        ...  \n",
       "22133   560000          Lahore             Cash  2013.0  13.235692  \n",
       "23299  1615000         Karachi             Cash  2015.0  14.294846  \n",
       "23997   390000          Lahore             Cash  2007.0  12.873902  \n",
       "24288   785000         Karachi             Cash  2010.0  13.573439  \n",
       "24326  2050000         Karachi             Cash  2015.0  14.533350  \n",
       "\n",
       "[81 rows x 10 columns]"
      ]
     },
     "execution_count": 74,
     "metadata": {},
     "output_type": "execute_result"
    }
   ],
   "source": [
    "df[df['KMs Driven'] == 73000.0]"
   ]
  },
  {
   "cell_type": "code",
   "execution_count": 75,
   "metadata": {},
   "outputs": [
    {
     "data": {
      "text/plain": [
       "KMs Driven                              73000.0\n",
       "Year                                     2008.0\n",
       "Brand_Audi                                  0.0\n",
       "Brand_BMW                                   0.0\n",
       "Brand_Changan                               0.0\n",
       "                                         ...   \n",
       "Registered City_Tank                        0.0\n",
       "Registered City_Vehari                      0.0\n",
       "Registered City_Wah                         0.0\n",
       "Transaction Type_Cash                       1.0\n",
       "Transaction Type_Installment/Leasing        0.0\n",
       "Name: 763, Length: 393, dtype: float64"
      ]
     },
     "execution_count": 75,
     "metadata": {},
     "output_type": "execute_result"
    }
   ],
   "source": [
    "X_test.iloc[29,:]"
   ]
  },
  {
   "cell_type": "code",
   "execution_count": 76,
   "metadata": {},
   "outputs": [
    {
     "data": {
      "text/plain": [
       "525000.0"
      ]
     },
     "execution_count": 76,
     "metadata": {},
     "output_type": "execute_result"
    }
   ],
   "source": [
    "round(np.exp(dtree.predict(np.array(list(X_test.iloc[29,:])).reshape(1,-1))[0]), 0)"
   ]
  },
  {
   "cell_type": "code",
   "execution_count": 81,
   "metadata": {},
   "outputs": [],
   "source": [
    "# predicting the price on new data\n",
    "def predict_price(cat_cols,numeric_cols,Model):    \n",
    "    \n",
    "    x = np.zeros(len(X.columns))\n",
    "    for i in range(len(numeric_cols)):\n",
    "        x[i] = numeric_cols[i]\n",
    "    for i in cat_cols:\n",
    "        if i in X.columns:\n",
    "            loc_index = np.where(X.columns==i)[0][0]\n",
    "            x[loc_index] = 1\n",
    "        else:\n",
    "            pass\n",
    "    \n",
    "    return Model.predict([x])[0]"
   ]
  },
  {
   "cell_type": "code",
   "execution_count": 78,
   "metadata": {},
   "outputs": [
    {
     "data": {
      "text/html": [
       "<div>\n",
       "<style scoped>\n",
       "    .dataframe tbody tr th:only-of-type {\n",
       "        vertical-align: middle;\n",
       "    }\n",
       "\n",
       "    .dataframe tbody tr th {\n",
       "        vertical-align: top;\n",
       "    }\n",
       "\n",
       "    .dataframe thead th {\n",
       "        text-align: right;\n",
       "    }\n",
       "</style>\n",
       "<table border=\"1\" class=\"dataframe\">\n",
       "  <thead>\n",
       "    <tr style=\"text-align: right;\">\n",
       "      <th></th>\n",
       "      <th>Brand</th>\n",
       "      <th>Condition</th>\n",
       "      <th>Fuel</th>\n",
       "      <th>KMs Driven</th>\n",
       "      <th>Model</th>\n",
       "      <th>Price</th>\n",
       "      <th>Registered City</th>\n",
       "      <th>Transaction Type</th>\n",
       "      <th>Year</th>\n",
       "      <th>Log_Price</th>\n",
       "    </tr>\n",
       "  </thead>\n",
       "  <tbody>\n",
       "    <tr>\n",
       "      <th>0</th>\n",
       "      <td>Toyota</td>\n",
       "      <td>Used</td>\n",
       "      <td>Diesel</td>\n",
       "      <td>1.0</td>\n",
       "      <td>Prado</td>\n",
       "      <td>2100000</td>\n",
       "      <td>Karachi</td>\n",
       "      <td>Cash</td>\n",
       "      <td>1997.0</td>\n",
       "      <td>14.557448</td>\n",
       "    </tr>\n",
       "    <tr>\n",
       "      <th>1</th>\n",
       "      <td>Suzuki</td>\n",
       "      <td>Used</td>\n",
       "      <td>Petrol</td>\n",
       "      <td>100000.0</td>\n",
       "      <td>Bolan</td>\n",
       "      <td>380000</td>\n",
       "      <td>Karachi</td>\n",
       "      <td>Cash</td>\n",
       "      <td>2006.0</td>\n",
       "      <td>12.847927</td>\n",
       "    </tr>\n",
       "    <tr>\n",
       "      <th>2</th>\n",
       "      <td>Suzuki</td>\n",
       "      <td>Used</td>\n",
       "      <td>CNG</td>\n",
       "      <td>12345.0</td>\n",
       "      <td>Bolan</td>\n",
       "      <td>340000</td>\n",
       "      <td>Karachi</td>\n",
       "      <td>Cash</td>\n",
       "      <td>1998.0</td>\n",
       "      <td>12.736701</td>\n",
       "    </tr>\n",
       "    <tr>\n",
       "      <th>3</th>\n",
       "      <td>Suzuki</td>\n",
       "      <td>Used</td>\n",
       "      <td>Petrol</td>\n",
       "      <td>94000.0</td>\n",
       "      <td>Alto</td>\n",
       "      <td>535000</td>\n",
       "      <td>Karachi</td>\n",
       "      <td>Cash</td>\n",
       "      <td>2010.0</td>\n",
       "      <td>13.190022</td>\n",
       "    </tr>\n",
       "    <tr>\n",
       "      <th>4</th>\n",
       "      <td>Toyota</td>\n",
       "      <td>Used</td>\n",
       "      <td>Petrol</td>\n",
       "      <td>100000.0</td>\n",
       "      <td>Corolla XLI</td>\n",
       "      <td>1430000</td>\n",
       "      <td>Karachi</td>\n",
       "      <td>Cash</td>\n",
       "      <td>2013.0</td>\n",
       "      <td>14.173185</td>\n",
       "    </tr>\n",
       "    <tr>\n",
       "      <th>...</th>\n",
       "      <td>...</td>\n",
       "      <td>...</td>\n",
       "      <td>...</td>\n",
       "      <td>...</td>\n",
       "      <td>...</td>\n",
       "      <td>...</td>\n",
       "      <td>...</td>\n",
       "      <td>...</td>\n",
       "      <td>...</td>\n",
       "      <td>...</td>\n",
       "    </tr>\n",
       "    <tr>\n",
       "      <th>24968</th>\n",
       "      <td>Toyota</td>\n",
       "      <td>Used</td>\n",
       "      <td>CNG</td>\n",
       "      <td>200000.0</td>\n",
       "      <td>Corolla XE</td>\n",
       "      <td>1070000</td>\n",
       "      <td>Lahore</td>\n",
       "      <td>Cash</td>\n",
       "      <td>2001.0</td>\n",
       "      <td>13.883169</td>\n",
       "    </tr>\n",
       "    <tr>\n",
       "      <th>24969</th>\n",
       "      <td>Daihatsu</td>\n",
       "      <td>New</td>\n",
       "      <td>Petrol</td>\n",
       "      <td>10000.0</td>\n",
       "      <td>Cuore</td>\n",
       "      <td>390000</td>\n",
       "      <td>Karachi</td>\n",
       "      <td>Cash</td>\n",
       "      <td>2004.0</td>\n",
       "      <td>12.873902</td>\n",
       "    </tr>\n",
       "    <tr>\n",
       "      <th>24970</th>\n",
       "      <td>Other Brands</td>\n",
       "      <td>Used</td>\n",
       "      <td>CNG</td>\n",
       "      <td>158715.0</td>\n",
       "      <td>Other</td>\n",
       "      <td>180000</td>\n",
       "      <td>Karachi</td>\n",
       "      <td>Cash</td>\n",
       "      <td>2000.0</td>\n",
       "      <td>12.100712</td>\n",
       "    </tr>\n",
       "    <tr>\n",
       "      <th>24971</th>\n",
       "      <td>Suzuki</td>\n",
       "      <td>Used</td>\n",
       "      <td>Petrol</td>\n",
       "      <td>1.0</td>\n",
       "      <td>Alto</td>\n",
       "      <td>470000</td>\n",
       "      <td>Rawalpindi</td>\n",
       "      <td>Cash</td>\n",
       "      <td>2003.0</td>\n",
       "      <td>13.060488</td>\n",
       "    </tr>\n",
       "    <tr>\n",
       "      <th>24972</th>\n",
       "      <td>Toyota</td>\n",
       "      <td>Used</td>\n",
       "      <td>Petrol</td>\n",
       "      <td>48500.0</td>\n",
       "      <td>Corolla GLI</td>\n",
       "      <td>2050000</td>\n",
       "      <td>Lahore</td>\n",
       "      <td>Cash</td>\n",
       "      <td>2017.0</td>\n",
       "      <td>14.533350</td>\n",
       "    </tr>\n",
       "  </tbody>\n",
       "</table>\n",
       "<p>24973 rows × 10 columns</p>\n",
       "</div>"
      ],
      "text/plain": [
       "              Brand Condition    Fuel  KMs Driven        Model    Price  \\\n",
       "0            Toyota      Used  Diesel         1.0        Prado  2100000   \n",
       "1            Suzuki      Used  Petrol    100000.0        Bolan   380000   \n",
       "2            Suzuki      Used     CNG     12345.0        Bolan   340000   \n",
       "3            Suzuki      Used  Petrol     94000.0         Alto   535000   \n",
       "4            Toyota      Used  Petrol    100000.0  Corolla XLI  1430000   \n",
       "...             ...       ...     ...         ...          ...      ...   \n",
       "24968        Toyota      Used     CNG    200000.0   Corolla XE  1070000   \n",
       "24969      Daihatsu       New  Petrol     10000.0        Cuore   390000   \n",
       "24970  Other Brands      Used     CNG    158715.0        Other   180000   \n",
       "24971        Suzuki      Used  Petrol         1.0         Alto   470000   \n",
       "24972        Toyota      Used  Petrol     48500.0  Corolla GLI  2050000   \n",
       "\n",
       "      Registered City Transaction Type    Year  Log_Price  \n",
       "0             Karachi             Cash  1997.0  14.557448  \n",
       "1             Karachi             Cash  2006.0  12.847927  \n",
       "2             Karachi             Cash  1998.0  12.736701  \n",
       "3             Karachi             Cash  2010.0  13.190022  \n",
       "4             Karachi             Cash  2013.0  14.173185  \n",
       "...               ...              ...     ...        ...  \n",
       "24968          Lahore             Cash  2001.0  13.883169  \n",
       "24969         Karachi             Cash  2004.0  12.873902  \n",
       "24970         Karachi             Cash  2000.0  12.100712  \n",
       "24971      Rawalpindi             Cash  2003.0  13.060488  \n",
       "24972          Lahore             Cash  2017.0  14.533350  \n",
       "\n",
       "[24973 rows x 10 columns]"
      ]
     },
     "execution_count": 78,
     "metadata": {},
     "output_type": "execute_result"
    }
   ],
   "source": [
    "df"
   ]
  },
  {
   "cell_type": "code",
   "execution_count": 79,
   "metadata": {},
   "outputs": [],
   "source": [
    "#cat_cols = ['Brand', 'Condition', 'Fuel', 'Model', 'Registered City', 'Transaction Type']\n",
    "cat_cols = ['Toyota', 'Used', 'Diesel', 'Prado', 'Karachi', 'Cash']\n",
    "\n",
    "# numeric_cols = ['KMs Driven', 'Year']\n",
    "numeric_cols = [1.0, 1997.0]"
   ]
  },
  {
   "cell_type": "code",
   "execution_count": 84,
   "metadata": {},
   "outputs": [
    {
     "data": {
      "text/plain": [
       "369129.37224791304"
      ]
     },
     "execution_count": 84,
     "metadata": {},
     "output_type": "execute_result"
    }
   ],
   "source": [
    "np.exp(predict_price(cat_cols, numeric_cols, rf))"
   ]
  },
  {
   "cell_type": "code",
   "execution_count": 76,
   "metadata": {},
   "outputs": [],
   "source": [
    "import pickle\n",
    "with open('lr_car_price_model.pickle','wb') as f:\n",
    "    pickle.dump(lr,f)"
   ]
  },
  {
   "cell_type": "code",
   "execution_count": 80,
   "metadata": {},
   "outputs": [],
   "source": [
    "with open('ridge_car_price_model.pickle','wb') as f:\n",
    "    pickle.dump(ridge,f)"
   ]
  },
  {
   "cell_type": "code",
   "execution_count": 81,
   "metadata": {},
   "outputs": [],
   "source": [
    "with open('rf_car_price_model.pickle','wb') as f:\n",
    "    pickle.dump(rf,f)"
   ]
  },
  {
   "cell_type": "code",
   "execution_count": 82,
   "metadata": {},
   "outputs": [],
   "source": [
    "with open('dtree_car_price_model.pickle','wb') as f:\n",
    "    pickle.dump(dtree,f)"
   ]
  },
  {
   "cell_type": "code",
   "execution_count": 83,
   "metadata": {},
   "outputs": [],
   "source": [
    "import json\n",
    "cat_feature_columns = {\n",
    "    \"data_columns\" : [col for col in X.columns],\n",
    "}\n",
    "\n",
    "with open(\"columns.json\", \"w\") as f:\n",
    "    f.write(json.dumps(cat_feature_columns))"
   ]
  }
 ],
 "metadata": {
  "kernelspec": {
   "display_name": "Python 3",
   "language": "python",
   "name": "python3"
  },
  "language_info": {
   "codemirror_mode": {
    "name": "ipython",
    "version": 3
   },
   "file_extension": ".py",
   "mimetype": "text/x-python",
   "name": "python",
   "nbconvert_exporter": "python",
   "pygments_lexer": "ipython3",
   "version": "3.8.3"
  }
 },
 "nbformat": 4,
 "nbformat_minor": 2
}
